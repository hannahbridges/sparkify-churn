{
 "cells": [
  {
   "cell_type": "markdown",
   "id": "f36296f2",
   "metadata": {},
   "source": [
    "# Sparkify - Predicting User Churn"
   ]
  },
  {
   "cell_type": "markdown",
   "id": "282b3ec0",
   "metadata": {},
   "source": [
    "### 1. PySpark Setup"
   ]
  },
  {
   "cell_type": "code",
   "execution_count": 1,
   "id": "30461c89",
   "metadata": {},
   "outputs": [],
   "source": [
    "from pyspark.sql import SparkSession\n",
    "from pyspark.sql.functions import udf\n",
    "from pyspark.sql.types import StringType\n",
    "from pyspark.sql.types import IntegerType\n",
    "from pyspark.sql.functions import desc\n",
    "from pyspark.sql.functions import asc\n",
    "from pyspark.sql.functions import sum as Fsum\n",
    "\n",
    "import datetime\n",
    "\n",
    "import numpy as np\n",
    "import pandas as pd\n",
    "%matplotlib inline\n",
    "import matplotlib.pyplot as plt\n",
    "\n",
    "import findspark\n",
    "findspark.init()"
   ]
  },
  {
   "cell_type": "code",
   "execution_count": 2,
   "id": "6a35f2ca",
   "metadata": {
    "scrolled": true
   },
   "outputs": [],
   "source": [
    "spark = SparkSession \\\n",
    "    .builder \\\n",
    "    .appName(\"Sparkify Churn Prediction\") \\\n",
    "    .getOrCreate()"
   ]
  },
  {
   "cell_type": "markdown",
   "id": "c8c7344c",
   "metadata": {},
   "source": [
    "## 2. Load and Clean Dataset"
   ]
  },
  {
   "cell_type": "code",
   "execution_count": 5,
   "id": "dc91c511",
   "metadata": {},
   "outputs": [],
   "source": [
    "#Read event data from mini file\n",
    "path = \"data/mini_sparkify_event_data.json\"\n",
    "sparkify_event_log = spark.read.json(path)\n",
    "\n",
    "#Create a view for running SQL queries\n",
    "sparkify_event_log.createOrReplaceTempView(\"log_table\")\n"
   ]
  },
  {
   "cell_type": "code",
   "execution_count": 6,
   "id": "c9a92e11",
   "metadata": {},
   "outputs": [
    {
     "name": "stdout",
     "output_type": "stream",
     "text": [
      "root\n",
      " |-- artist: string (nullable = true)\n",
      " |-- auth: string (nullable = true)\n",
      " |-- firstName: string (nullable = true)\n",
      " |-- gender: string (nullable = true)\n",
      " |-- itemInSession: long (nullable = true)\n",
      " |-- lastName: string (nullable = true)\n",
      " |-- length: double (nullable = true)\n",
      " |-- level: string (nullable = true)\n",
      " |-- location: string (nullable = true)\n",
      " |-- method: string (nullable = true)\n",
      " |-- page: string (nullable = true)\n",
      " |-- registration: long (nullable = true)\n",
      " |-- sessionId: long (nullable = true)\n",
      " |-- song: string (nullable = true)\n",
      " |-- status: long (nullable = true)\n",
      " |-- ts: long (nullable = true)\n",
      " |-- userAgent: string (nullable = true)\n",
      " |-- userId: string (nullable = true)\n",
      "\n"
     ]
    }
   ],
   "source": [
    "#Display the data schema to see what data is available about user events\n",
    "sparkify_event_log.printSchema()"
   ]
  },
  {
   "cell_type": "code",
   "execution_count": 8,
   "id": "a59a14e9",
   "metadata": {},
   "outputs": [
    {
     "data": {
      "text/plain": [
       "[Row(artist='Martha Tilston', auth='Logged In', firstName='Colin', gender='M', itemInSession=50, lastName='Freeman', length=277.89016, level='paid', location='Bakersfield, CA', method='PUT', page='NextSong', registration=1538173362000, sessionId=29, song='Rockpools', status=200, ts=1538352117000, userAgent='Mozilla/5.0 (Windows NT 6.1; WOW64; rv:31.0) Gecko/20100101 Firefox/31.0', userId='30'),\n",
       " Row(artist='Five Iron Frenzy', auth='Logged In', firstName='Micah', gender='M', itemInSession=79, lastName='Long', length=236.09424, level='free', location='Boston-Cambridge-Newton, MA-NH', method='PUT', page='NextSong', registration=1538331630000, sessionId=8, song='Canada', status=200, ts=1538352180000, userAgent='\"Mozilla/5.0 (Windows NT 6.1; WOW64) AppleWebKit/537.36 (KHTML, like Gecko) Chrome/37.0.2062.103 Safari/537.36\"', userId='9'),\n",
       " Row(artist='Adam Lambert', auth='Logged In', firstName='Colin', gender='M', itemInSession=51, lastName='Freeman', length=282.8273, level='paid', location='Bakersfield, CA', method='PUT', page='NextSong', registration=1538173362000, sessionId=29, song='Time For Miracles', status=200, ts=1538352394000, userAgent='Mozilla/5.0 (Windows NT 6.1; WOW64; rv:31.0) Gecko/20100101 Firefox/31.0', userId='30')]"
      ]
     },
     "execution_count": 8,
     "metadata": {},
     "output_type": "execute_result"
    }
   ],
   "source": [
    "#View first 5 rows of the log\n",
    "sparkify_event_log.take(3)"
   ]
  },
  {
   "cell_type": "code",
   "execution_count": 17,
   "id": "cc010985",
   "metadata": {},
   "outputs": [
    {
     "name": "stdout",
     "output_type": "stream",
     "text": [
      "+----------------+\n",
      "|count(sessionId)|\n",
      "+----------------+\n",
      "|               0|\n",
      "+----------------+\n",
      "\n"
     ]
    }
   ],
   "source": [
    "#Check for any rows with a missing sessionId - these would likely be a data error within the Sparkify system\n",
    "spark.sql('''\n",
    "          SELECT count(sessionId)\n",
    "          FROM log_table \n",
    "          WHERE sessionId == ''\n",
    "          '''\n",
    "          ).show()\n",
    "#There are no rows which are missing a sessionId so no cleaning need to address these"
   ]
  },
  {
   "cell_type": "code",
   "execution_count": 15,
   "id": "bfb7a5a3",
   "metadata": {},
   "outputs": [
    {
     "name": "stdout",
     "output_type": "stream",
     "text": [
      "+-------------+\n",
      "|count(userId)|\n",
      "+-------------+\n",
      "|         8346|\n",
      "+-------------+\n",
      "\n",
      "+----------+-------------------+\n",
      "|      auth|               page|\n",
      "+----------+-------------------+\n",
      "|Logged Out|               Home|\n",
      "|     Guest|           Register|\n",
      "|Logged Out|              Error|\n",
      "|     Guest|              About|\n",
      "|     Guest|              Error|\n",
      "|Logged Out|              Login|\n",
      "|Logged Out|               Help|\n",
      "|     Guest|Submit Registration|\n",
      "|Logged Out|              About|\n",
      "|     Guest|               Help|\n",
      "|     Guest|               Home|\n",
      "+----------+-------------------+\n",
      "\n"
     ]
    }
   ],
   "source": [
    "#Check for any rows with a missing userId - these won't be useful to predict user churn\n",
    "spark.sql('''\n",
    "          SELECT count(userId)\n",
    "          FROM log_table \n",
    "          WHERE userId == ''\n",
    "          '''\n",
    "          ).show()\n",
    "\n",
    "spark.sql('''\n",
    "          SELECT DISTINCT auth, page\n",
    "          FROM log_table\n",
    "          WHERE userId == ''\n",
    "          '''\n",
    "         ).show()\n",
    "#There are many rows without a userId\n",
    "#Looking at the events these relate to, they relate to Sparkify information pages such as Home, About and Help\n",
    "#It makes sense that these would be accessed by logged out or guest users and can be dropped from the dataset as not useful"
   ]
  },
  {
   "cell_type": "code",
   "execution_count": 38,
   "id": "94caf909",
   "metadata": {},
   "outputs": [],
   "source": [
    "#Select only rows that have a userId attached\n",
    "#Only keep columns that look useful for further investigation - can drop names, userAgent string, status, location etc.\n",
    "user_event_log = spark.sql('''\n",
    "                            SELECT artist, gender, itemInSession, length, level, page, sessionId, song, ts, userId\n",
    "                            FROM log_table\n",
    "                            WHERE userId != ''\n",
    "                            '''\n",
    "                          )\n",
    "#Create view for this new table\n",
    "user_event_log.createOrReplaceTempView(\"user_log_table\")"
   ]
  },
  {
   "cell_type": "code",
   "execution_count": null,
   "id": "94b6590a",
   "metadata": {},
   "outputs": [],
   "source": []
  },
  {
   "cell_type": "markdown",
   "id": "a1fff401",
   "metadata": {},
   "source": [
    "## 3. Exploratory Data Analysis"
   ]
  },
  {
   "cell_type": "code",
   "execution_count": 43,
   "id": "fa0bbdde",
   "metadata": {},
   "outputs": [
    {
     "name": "stdout",
     "output_type": "stream",
     "text": [
      "+--------------------+-----------+\n",
      "|                page|page_counts|\n",
      "+--------------------+-----------+\n",
      "|              Cancel|         52|\n",
      "|    Submit Downgrade|         63|\n",
      "|         Thumbs Down|       2546|\n",
      "|                Home|      14457|\n",
      "|           Downgrade|       2055|\n",
      "|         Roll Advert|       3933|\n",
      "|              Logout|       3226|\n",
      "|       Save Settings|        310|\n",
      "|Cancellation Conf...|         52|\n",
      "|               About|        924|\n",
      "| Submit Registration|          5|\n",
      "|            Settings|       1514|\n",
      "|               Login|       3241|\n",
      "|            Register|         18|\n",
      "|     Add to Playlist|       6526|\n",
      "|          Add Friend|       4277|\n",
      "|            NextSong|     228108|\n",
      "|           Thumbs Up|      12551|\n",
      "|                Help|       1726|\n",
      "|             Upgrade|        499|\n",
      "|               Error|        258|\n",
      "|      Submit Upgrade|        159|\n",
      "+--------------------+-----------+\n",
      "\n"
     ]
    }
   ],
   "source": [
    "#Investigate page column\n",
    "page_counts = spark.sql(\"SELECT page, COUNT(page) AS page_counts \\\n",
    "        FROM log_table \\\n",
    "        GROUP BY page\").show(30)"
   ]
  },
  {
   "cell_type": "code",
   "execution_count": null,
   "id": "8b98293d",
   "metadata": {},
   "outputs": [],
   "source": [
    "#Create CHURN flag"
   ]
  },
  {
   "cell_type": "markdown",
   "id": "b52a43c0",
   "metadata": {},
   "source": [
    "## 4. Feature Engineering"
   ]
  },
  {
   "cell_type": "code",
   "execution_count": null,
   "id": "2aab2604",
   "metadata": {},
   "outputs": [],
   "source": []
  },
  {
   "cell_type": "code",
   "execution_count": null,
   "id": "07fb898a",
   "metadata": {},
   "outputs": [],
   "source": []
  },
  {
   "cell_type": "markdown",
   "id": "fbb1264c",
   "metadata": {},
   "source": [
    "## 5. Modelling"
   ]
  },
  {
   "cell_type": "code",
   "execution_count": null,
   "id": "89926491",
   "metadata": {},
   "outputs": [],
   "source": []
  }
 ],
 "metadata": {
  "kernelspec": {
   "display_name": "Python 3 (ipykernel)",
   "language": "python",
   "name": "python3"
  },
  "language_info": {
   "codemirror_mode": {
    "name": "ipython",
    "version": 3
   },
   "file_extension": ".py",
   "mimetype": "text/x-python",
   "name": "python",
   "nbconvert_exporter": "python",
   "pygments_lexer": "ipython3",
   "version": "3.8.13"
  }
 },
 "nbformat": 4,
 "nbformat_minor": 5
}
