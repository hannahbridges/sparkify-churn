{
 "cells": [
  {
   "cell_type": "markdown",
   "id": "38968e15",
   "metadata": {},
   "source": [
    "# Sparkify - Predicting User Churn\n",
    "\n",
    "Sparkify is a fictional music streaming service similar to Spotify, with a free-tier supported by advertisements and a monthly subscription service. Predicting user churn enables Sparkify to identify users who are considering cancelling their membership and offer special discounts or services to retain these users and maximize profit.\n",
    "\n",
    "This code will use event log data about user interactions to create features that could be predictive of which users will churn, and then train and evaluate models for this classification task."
   ]
  },
  {
   "cell_type": "markdown",
   "id": "4c93b9bb",
   "metadata": {},
   "source": [
    "## 1. PySpark Setup"
   ]
  },
  {
   "cell_type": "code",
   "execution_count": 1,
   "id": "9f6dde91",
   "metadata": {},
   "outputs": [],
   "source": [
    "from pyspark.sql import SparkSession, Window\n",
    "from pyspark.sql.functions import udf, desc, when, dense_rank, countDistinct\n",
    "from pyspark.sql.types import IntegerType\n",
    "from pyspark.sql.functions import max as Fmax, min as Fmin, sum as Fsum, mean as Fmean, first as Ffirst, col as Fcol\n",
    "\n",
    "import pandas as pd\n",
    "import seaborn as sns\n",
    "import numpy as np\n",
    "import matplotlib.pyplot as plt\n",
    "\n",
    "from pyspark.ml import Pipeline\n",
    "from pyspark.ml.classification import LogisticRegression, LinearSVC, DecisionTreeClassifier, RandomForestClassifier\n",
    "from pyspark.ml.evaluation import MulticlassClassificationEvaluator\n",
    "from pyspark.ml.feature import StandardScaler, VectorAssembler\n",
    "from pyspark.ml.tuning import CrossValidator, ParamGridBuilder\n"
   ]
  },
  {
   "cell_type": "code",
   "execution_count": 2,
   "id": "caa0ad2e",
   "metadata": {},
   "outputs": [],
   "source": [
    "#Set up spark session\n",
    "spark = SparkSession \\\n",
    "    .builder \\\n",
    "    .appName(\"Sparkify Churn Prediction\") \\\n",
    "    .getOrCreate()"
   ]
  },
  {
   "cell_type": "markdown",
   "id": "22c46d9f",
   "metadata": {},
   "source": [
    "## 2. Load and Clean Dataset"
   ]
  },
  {
   "cell_type": "code",
   "execution_count": 3,
   "id": "57c33ec9",
   "metadata": {},
   "outputs": [
    {
     "data": {
      "text/plain": [
       "DataFrame[artist: string, auth: string, firstName: string, gender: string, itemInSession: bigint, lastName: string, length: double, level: string, location: string, method: string, page: string, registration: bigint, sessionId: bigint, song: string, status: bigint, ts: bigint, userAgent: string, userId: string]"
      ]
     },
     "execution_count": 3,
     "metadata": {},
     "output_type": "execute_result"
    }
   ],
   "source": [
    "#Read event data from medium file\n",
    "path = \"data/medium-sparkify-event-data.json\"\n",
    "sparkify_event_log = spark.read.json(path)\n",
    "\n",
    "sparkify_event_log.persist()"
   ]
  },
  {
   "cell_type": "code",
   "execution_count": 4,
   "id": "dca98dc3",
   "metadata": {},
   "outputs": [
    {
     "data": {
      "text/plain": [
       "Row(artist='Martin Orford', auth='Logged In', firstName='Joseph', gender='M', itemInSession=20, lastName='Morales', length=597.55057, level='free', location='Corpus Christi, TX', method='PUT', page='NextSong', registration=1532063507000, sessionId=292, song='Grand Designs', status=200, ts=1538352011000, userAgent='\"Mozilla/5.0 (Macintosh; Intel Mac OS X 10_9_4) AppleWebKit/537.36 (KHTML, like Gecko) Chrome/36.0.1985.125 Safari/537.36\"', userId='293')"
      ]
     },
     "execution_count": 4,
     "metadata": {},
     "output_type": "execute_result"
    }
   ],
   "source": [
    "#View first row of the data\n",
    "sparkify_event_log.head()"
   ]
  },
  {
   "cell_type": "code",
   "execution_count": 5,
   "id": "bea6ecb7",
   "metadata": {},
   "outputs": [
    {
     "data": {
      "text/plain": [
       "543705"
      ]
     },
     "execution_count": 5,
     "metadata": {},
     "output_type": "execute_result"
    }
   ],
   "source": [
    "#Count number of rows\n",
    "sparkify_event_log.count()"
   ]
  },
  {
   "cell_type": "code",
   "execution_count": 6,
   "id": "61716dc8",
   "metadata": {},
   "outputs": [
    {
     "data": {
      "text/plain": [
       "0"
      ]
     },
     "execution_count": 6,
     "metadata": {},
     "output_type": "execute_result"
    }
   ],
   "source": [
    "#Check for any rows with a missing sessionId - these would likely be a data error within the Sparkify system\n",
    "sparkify_event_log.filter(sparkify_event_log['sessionId'] == '').count()\n",
    "#There are no rows which are missing a sessionId so no cleaning need to address these"
   ]
  },
  {
   "cell_type": "code",
   "execution_count": 7,
   "id": "231fd70c",
   "metadata": {},
   "outputs": [
    {
     "data": {
      "text/plain": [
       "15700"
      ]
     },
     "execution_count": 7,
     "metadata": {},
     "output_type": "execute_result"
    }
   ],
   "source": [
    "#Check for any rows with a missing userId - these won't be useful to predict user churn\n",
    "sparkify_event_log.filter(sparkify_event_log['userId'] == \"\").count()"
   ]
  },
  {
   "cell_type": "code",
   "execution_count": 8,
   "id": "d07729a7",
   "metadata": {},
   "outputs": [
    {
     "name": "stdout",
     "output_type": "stream",
     "text": [
      "+-------------------+\n",
      "|               page|\n",
      "+-------------------+\n",
      "|               Home|\n",
      "|              About|\n",
      "|Submit Registration|\n",
      "|              Login|\n",
      "|           Register|\n",
      "|               Help|\n",
      "|              Error|\n",
      "+-------------------+\n",
      "\n"
     ]
    }
   ],
   "source": [
    "#Investigate which pages were visited by users without a UserId\n",
    "sparkify_event_log.filter(sparkify_event_log['userId'] == \"\").select(sparkify_event_log['page']).distinct().show()"
   ]
  },
  {
   "cell_type": "markdown",
   "id": "37c24750",
   "metadata": {},
   "source": [
    "There are many rows without a userId. Looking at the events these relate to, they relate to Sparkify information pages such as Home, About and Help. It makes sense that these pages would be accessed by logged out or guest users so we can drop them from this dataset as they won't be useful for predicting churn."
   ]
  },
  {
   "cell_type": "code",
   "execution_count": 9,
   "id": "59b73d24",
   "metadata": {},
   "outputs": [
    {
     "data": {
      "text/plain": [
       "Row(artist='Martin Orford', auth='Logged In', firstName='Joseph', gender='M', itemInSession=20, lastName='Morales', length=597.55057, level='free', location='Corpus Christi, TX', method='PUT', page='NextSong', registration=1532063507000, sessionId=292, song='Grand Designs', status=200, ts=1538352011000, userAgent='\"Mozilla/5.0 (Macintosh; Intel Mac OS X 10_9_4) AppleWebKit/537.36 (KHTML, like Gecko) Chrome/36.0.1985.125 Safari/537.36\"', userId='293')"
      ]
     },
     "execution_count": 9,
     "metadata": {},
     "output_type": "execute_result"
    }
   ],
   "source": [
    "user_event_log = sparkify_event_log.filter(sparkify_event_log['userId'] != \"\")\n",
    "user_event_log.head()"
   ]
  },
  {
   "cell_type": "code",
   "execution_count": 10,
   "id": "8ca637bf",
   "metadata": {},
   "outputs": [
    {
     "data": {
      "text/plain": [
       "{'artist': 95128,\n",
       " 'auth': 0,\n",
       " 'firstName': 0,\n",
       " 'gender': 0,\n",
       " 'itemInSession': 0,\n",
       " 'lastName': 0,\n",
       " 'length': 95128,\n",
       " 'level': 0,\n",
       " 'location': 0,\n",
       " 'method': 0,\n",
       " 'page': 0,\n",
       " 'registration': 0,\n",
       " 'sessionId': 0,\n",
       " 'song': 95128,\n",
       " 'status': 0,\n",
       " 'ts': 0,\n",
       " 'userAgent': 0,\n",
       " 'userId': 0}"
      ]
     },
     "execution_count": 10,
     "metadata": {},
     "output_type": "execute_result"
    }
   ],
   "source": [
    "# Check for any other columns with null values\n",
    "null_counts = {col:user_event_log.filter(user_event_log[col].isNull()).count() for col in user_event_log.columns}\n",
    "null_counts \n",
    "#The only remaining null values are for artist, song, and length \n",
    "#these correspond to rows where the event is not listening to song, which seems sensible"
   ]
  },
  {
   "cell_type": "code",
   "execution_count": 11,
   "id": "3c366624",
   "metadata": {},
   "outputs": [
    {
     "data": {
      "text/plain": [
       "[Row(auth='Logged In', gender='M', itemInSession=20, length=597.55057, level='free', location='Corpus Christi, TX', method='PUT', page='NextSong', registration=1532063507000, sessionId=292, status=200, ts=1538352011000, userId='293'),\n",
       " Row(auth='Logged In', gender='M', itemInSession=74, length=380.21179, level='free', location='Houston-The Woodlands-Sugar Land, TX', method='PUT', page='NextSong', registration=1538069638000, sessionId=97, status=200, ts=1538352025000, userId='98'),\n",
       " Row(auth='Logged In', gender='M', itemInSession=184, length=202.37016, level='paid', location='Orlando-Kissimmee-Sanford, FL', method='PUT', page='NextSong', registration=1535953455000, sessionId=178, status=200, ts=1538352118000, userId='179'),\n",
       " Row(auth='Logged In', gender='M', itemInSession=185, length=None, level='paid', location='Orlando-Kissimmee-Sanford, FL', method='PUT', page='Logout', registration=1535953455000, sessionId=178, status=307, ts=1538352119000, userId='179'),\n",
       " Row(auth='Logged In', gender='F', itemInSession=22, length=194.53342, level='paid', location='Mobile, AL', method='PUT', page='NextSong', registration=1535931018000, sessionId=245, status=200, ts=1538352124000, userId='246')]"
      ]
     },
     "execution_count": 11,
     "metadata": {},
     "output_type": "execute_result"
    }
   ],
   "source": [
    "#Drop columns that won't be useful to reduce memory requirements\n",
    "user_event_log = user_event_log.drop('firstName','lastName','userAgent','artist','song')\n",
    "user_event_log.head(5)"
   ]
  },
  {
   "cell_type": "code",
   "execution_count": 12,
   "id": "f4dc0331",
   "metadata": {},
   "outputs": [
    {
     "name": "stdout",
     "output_type": "stream",
     "text": [
      "Duplicate rows:  0\n"
     ]
    }
   ],
   "source": [
    "#Check for duplicate rows\n",
    "print('Duplicate rows: ', user_event_log.count() - user_event_log.distinct().count())"
   ]
  },
  {
   "cell_type": "markdown",
   "id": "63ca879c",
   "metadata": {},
   "source": [
    "## 3. Exploratory Data Analysis"
   ]
  },
  {
   "cell_type": "code",
   "execution_count": 13,
   "id": "e605a642",
   "metadata": {},
   "outputs": [
    {
     "name": "stdout",
     "output_type": "stream",
     "text": [
      "Unique users: 448\n"
     ]
    }
   ],
   "source": [
    "#Count number of unique users\n",
    "print('Unique users:', user_event_log.select(\"userId\").dropDuplicates().count())"
   ]
  },
  {
   "cell_type": "code",
   "execution_count": 14,
   "id": "3ae96adb",
   "metadata": {
    "scrolled": false
   },
   "outputs": [
    {
     "name": "stdout",
     "output_type": "stream",
     "text": [
      "+--------------------+------+\n",
      "|                page| count|\n",
      "+--------------------+------+\n",
      "|            NextSong|432877|\n",
      "|           Thumbs Up| 23826|\n",
      "|                Home| 19089|\n",
      "|     Add to Playlist| 12349|\n",
      "|          Add Friend|  8087|\n",
      "|         Roll Advert|  7773|\n",
      "|              Logout|  5990|\n",
      "|         Thumbs Down|  4911|\n",
      "|           Downgrade|  3811|\n",
      "|            Settings|  2964|\n",
      "|                Help|  2644|\n",
      "|               About|  1026|\n",
      "|             Upgrade|   968|\n",
      "|       Save Settings|   585|\n",
      "|               Error|   503|\n",
      "|      Submit Upgrade|   287|\n",
      "|    Submit Downgrade|   117|\n",
      "|              Cancel|    99|\n",
      "|Cancellation Conf...|    99|\n",
      "+--------------------+------+\n",
      "\n"
     ]
    }
   ],
   "source": [
    "#Investigate page column\n",
    "page_counts = user_event_log.groupby(user_event_log.page).count().orderBy('count', ascending=False)\n",
    "page_counts.show()"
   ]
  },
  {
   "cell_type": "code",
   "execution_count": 15,
   "id": "c44298a4",
   "metadata": {},
   "outputs": [
    {
     "data": {
      "image/png": "[encoded data removed]",
      "text/plain": [
       "<Figure size 640x480 with 1 Axes>"
      ]
     },
     "metadata": {},
     "output_type": "display_data"
    }
   ],
   "source": [
    "page_plot = sns.barplot(x='page', y='count', data=page_counts.toPandas(), color='turquoise')\n",
    "page_plot.set_xlabel(None)\n",
    "page_plot.set_ylabel(\"Page Count\",fontsize=10)\n",
    "plt.tick_params(labelsize=10)\n",
    "plt.xticks(rotation=50, ha='right');"
   ]
  },
  {
   "cell_type": "markdown",
   "id": "d3a8f69a",
   "metadata": {},
   "source": [
    "From this we can see that the majority of events correspond to playing songs, which makes sense for a music streaming service. Some of the other common events such as Thumbs Up, Add to Playlist or Roll Advert could be used to create predictive features.\n",
    "The other key event here is the Cancel Confirmation page, which will be used to define user churn."
   ]
  },
  {
   "cell_type": "code",
   "execution_count": 16,
   "id": "27b50f4a",
   "metadata": {},
   "outputs": [
    {
     "name": "stdout",
     "output_type": "stream",
     "text": [
      "+---------+------+\n",
      "|     auth| count|\n",
      "+---------+------+\n",
      "|Cancelled|    99|\n",
      "|Logged In|527906|\n",
      "+---------+------+\n",
      "\n",
      "+------+------+\n",
      "|gender| count|\n",
      "+------+------+\n",
      "|     F|225393|\n",
      "|     M|302612|\n",
      "+------+------+\n",
      "\n",
      "+-----+------+\n",
      "|level| count|\n",
      "+-----+------+\n",
      "| free|109961|\n",
      "| paid|418044|\n",
      "+-----+------+\n",
      "\n",
      "+------+------+\n",
      "|method| count|\n",
      "+------+------+\n",
      "|   PUT|489128|\n",
      "|   GET| 38877|\n",
      "+------+------+\n",
      "\n",
      "+------+------+\n",
      "|status| count|\n",
      "+------+------+\n",
      "|   307| 43902|\n",
      "|   404|   503|\n",
      "|   200|483600|\n",
      "+------+------+\n",
      "\n"
     ]
    }
   ],
   "source": [
    "#Look at the range of values in other categorical columns\n",
    "cat_cols = ['auth', 'gender', 'level', 'method', 'status']\n",
    "for col in cat_cols:\n",
    "    user_event_log.groupBy(col).count().show()"
   ]
  },
  {
   "cell_type": "markdown",
   "id": "39feb830",
   "metadata": {},
   "source": [
    "### Create user churn flag"
   ]
  },
  {
   "cell_type": "code",
   "execution_count": 17,
   "id": "62a483eb",
   "metadata": {},
   "outputs": [
    {
     "data": {
      "text/plain": [
       "Row(auth='Logged In', gender='M', itemInSession=20, length=597.55057, level='free', location='Corpus Christi, TX', method='PUT', page='NextSong', registration=1532063507000, sessionId=292, status=200, ts=1538352011000, userId='293', Churn_Event=0)"
      ]
     },
     "execution_count": 17,
     "metadata": {},
     "output_type": "execute_result"
    }
   ],
   "source": [
    "#Create CHURN event flag using user-defined function\n",
    "create_churn_event_flag = udf(lambda x: 1 if x == \"Cancellation Confirmation\" else 0, IntegerType())\n",
    "user_event_log = user_event_log.withColumn(\"Churn_Event\", create_churn_event_flag(\"page\"))\n",
    "\n",
    "user_event_log.head()"
   ]
  },
  {
   "cell_type": "code",
   "execution_count": 18,
   "id": "c8ba1492",
   "metadata": {},
   "outputs": [
    {
     "name": "stdout",
     "output_type": "stream",
     "text": [
      "+-----------+------+\n",
      "|Churn_Event| count|\n",
      "+-----------+------+\n",
      "|          1|    99|\n",
      "|          0|527906|\n",
      "+-----------+------+\n",
      "\n"
     ]
    }
   ],
   "source": [
    "user_event_log.groupBy('Churn_Event').count().show()"
   ]
  },
  {
   "cell_type": "markdown",
   "id": "fdee954b",
   "metadata": {},
   "source": [
    "There were only 99 cancellation events out of the 500k rows - fortunately for Sparkify it looks like cancellation is a pretty rare event. Since we're interested in predicting which users will churn, we next need to flag all rows belonging to a churn user. We can do this by using a Window function to find the maximum value of the Churn_Event flag for each user and attach this to all their other log entries."
   ]
  },
  {
   "cell_type": "code",
   "execution_count": 19,
   "id": "e8ff3c1d",
   "metadata": {},
   "outputs": [],
   "source": [
    "#create a window based on userId and sorted by event timestamp\n",
    "user_window = Window.partitionBy(\"userId\").orderBy(desc(\"ts\")).rangeBetween(Window.unboundedPreceding, Window.unboundedFollowing)"
   ]
  },
  {
   "cell_type": "code",
   "execution_count": 20,
   "id": "420d6673",
   "metadata": {},
   "outputs": [],
   "source": [
    "user_event_log = user_event_log.withColumn(\"Churn_User\", Fmax(\"Churn_Event\").over(user_window))"
   ]
  },
  {
   "cell_type": "code",
   "execution_count": 21,
   "id": "7fbec213",
   "metadata": {},
   "outputs": [
    {
     "data": {
      "text/plain": [
       "[Row(auth='Cancelled', gender='M', itemInSession=69, length=None, level='paid', location='Kansas City, MO-KS', method='GET', page='Cancellation Confirmation', registration=1535623466000, sessionId=4671, status=200, ts=1543522398000, userId='18', Churn_Event=1, Churn_User=1),\n",
       " Row(auth='Logged In', gender='M', itemInSession=68, length=None, level='paid', location='Kansas City, MO-KS', method='PUT', page='Cancel', registration=1535623466000, sessionId=4671, status=307, ts=1543522388000, userId='18', Churn_Event=0, Churn_User=1),\n",
       " Row(auth='Logged In', gender='M', itemInSession=67, length=None, level='paid', location='Kansas City, MO-KS', method='GET', page='Downgrade', registration=1535623466000, sessionId=4671, status=200, ts=1543522387000, userId='18', Churn_Event=0, Churn_User=1)]"
      ]
     },
     "execution_count": 21,
     "metadata": {},
     "output_type": "execute_result"
    }
   ],
   "source": [
    "#Check first few rows for a user known to have churned - now have Churn_User set for all of that user's rows\n",
    "user_event_log.filter(user_event_log.userId == '18').head(3)"
   ]
  },
  {
   "cell_type": "code",
   "execution_count": 22,
   "id": "1a8540b0",
   "metadata": {},
   "outputs": [
    {
     "name": "stdout",
     "output_type": "stream",
     "text": [
      "+----------+------+\n",
      "|Churn_User| count|\n",
      "+----------+------+\n",
      "|         1|103646|\n",
      "|         0|424359|\n",
      "+----------+------+\n",
      "\n",
      "+----------+-----+\n",
      "|Churn_User|count|\n",
      "+----------+-----+\n",
      "|         1|   99|\n",
      "|         0|  349|\n",
      "+----------+-----+\n",
      "\n"
     ]
    }
   ],
   "source": [
    "user_event_log.groupBy('Churn_User').count().show()\n",
    "user_event_log.select('userId','Churn_User').distinct().groupBy('Churn_User').count().show()"
   ]
  },
  {
   "cell_type": "markdown",
   "id": "0c10960f",
   "metadata": {},
   "source": [
    "From this we can see that nearly a quarter of the users in our dataset have churned, which would not be good for Sparkify's profits! We clearly need to find a way to identify these users before they churn and find strategies to prevent this. We can start by looking at the relationship between our Churn users and other users based on some of the other features in the event log."
   ]
  },
  {
   "cell_type": "code",
   "execution_count": 23,
   "id": "e4e621c5",
   "metadata": {},
   "outputs": [
    {
     "data": {
      "text/html": [
       "<div>\n",
       "<style scoped>\n",
       "    .dataframe tbody tr th:only-of-type {\n",
       "        vertical-align: middle;\n",
       "    }\n",
       "\n",
       "    .dataframe tbody tr th {\n",
       "        vertical-align: top;\n",
       "    }\n",
       "\n",
       "    .dataframe thead th {\n",
       "        text-align: right;\n",
       "    }\n",
       "</style>\n",
       "<table border=\"1\" class=\"dataframe\">\n",
       "  <thead>\n",
       "    <tr style=\"text-align: right;\">\n",
       "      <th></th>\n",
       "      <th>auth</th>\n",
       "      <th>gender</th>\n",
       "      <th>itemInSession</th>\n",
       "      <th>length</th>\n",
       "      <th>level</th>\n",
       "      <th>location</th>\n",
       "      <th>method</th>\n",
       "      <th>page</th>\n",
       "      <th>registration</th>\n",
       "      <th>sessionId</th>\n",
       "      <th>status</th>\n",
       "      <th>ts</th>\n",
       "      <th>userId</th>\n",
       "      <th>Churn_Event</th>\n",
       "      <th>Churn_User</th>\n",
       "      <th>Rank</th>\n",
       "    </tr>\n",
       "  </thead>\n",
       "  <tbody>\n",
       "    <tr>\n",
       "      <th>0</th>\n",
       "      <td>Cancelled</td>\n",
       "      <td>F</td>\n",
       "      <td>67</td>\n",
       "      <td>NaN</td>\n",
       "      <td>free</td>\n",
       "      <td>Bridgeport-Stamford-Norwalk, CT</td>\n",
       "      <td>GET</td>\n",
       "      <td>Cancellation Confirmation</td>\n",
       "      <td>1538016340000</td>\n",
       "      <td>166</td>\n",
       "      <td>200</td>\n",
       "      <td>1539254318000</td>\n",
       "      <td>100010</td>\n",
       "      <td>1</td>\n",
       "      <td>1</td>\n",
       "      <td>1</td>\n",
       "    </tr>\n",
       "    <tr>\n",
       "      <th>1</th>\n",
       "      <td>Cancelled</td>\n",
       "      <td>M</td>\n",
       "      <td>138</td>\n",
       "      <td>NaN</td>\n",
       "      <td>paid</td>\n",
       "      <td>Chicago-Naperville-Elgin, IL-IN-WI</td>\n",
       "      <td>GET</td>\n",
       "      <td>Cancellation Confirmation</td>\n",
       "      <td>1536269906000</td>\n",
       "      <td>239</td>\n",
       "      <td>200</td>\n",
       "      <td>1540877026000</td>\n",
       "      <td>200002</td>\n",
       "      <td>1</td>\n",
       "      <td>1</td>\n",
       "      <td>1</td>\n",
       "    </tr>\n",
       "    <tr>\n",
       "      <th>2</th>\n",
       "      <td>Cancelled</td>\n",
       "      <td>F</td>\n",
       "      <td>20</td>\n",
       "      <td>NaN</td>\n",
       "      <td>paid</td>\n",
       "      <td>Allentown-Bethlehem-Easton, PA-NJ</td>\n",
       "      <td>GET</td>\n",
       "      <td>Cancellation Confirmation</td>\n",
       "      <td>1536885688000</td>\n",
       "      <td>1228</td>\n",
       "      <td>200</td>\n",
       "      <td>1539187234000</td>\n",
       "      <td>296</td>\n",
       "      <td>1</td>\n",
       "      <td>1</td>\n",
       "      <td>1</td>\n",
       "    </tr>\n",
       "    <tr>\n",
       "      <th>3</th>\n",
       "      <td>Logged In</td>\n",
       "      <td>M</td>\n",
       "      <td>7</td>\n",
       "      <td>NaN</td>\n",
       "      <td>free</td>\n",
       "      <td>Corpus Christi, TX</td>\n",
       "      <td>PUT</td>\n",
       "      <td>Add to Playlist</td>\n",
       "      <td>1533157139000</td>\n",
       "      <td>2220</td>\n",
       "      <td>200</td>\n",
       "      <td>1542265610000</td>\n",
       "      <td>125</td>\n",
       "      <td>0</td>\n",
       "      <td>0</td>\n",
       "      <td>1</td>\n",
       "    </tr>\n",
       "    <tr>\n",
       "      <th>4</th>\n",
       "      <td>Cancelled</td>\n",
       "      <td>F</td>\n",
       "      <td>44</td>\n",
       "      <td>NaN</td>\n",
       "      <td>paid</td>\n",
       "      <td>Vineland-Bridgeton, NJ</td>\n",
       "      <td>GET</td>\n",
       "      <td>Cancellation Confirmation</td>\n",
       "      <td>1532224335000</td>\n",
       "      <td>3475</td>\n",
       "      <td>200</td>\n",
       "      <td>1541948983000</td>\n",
       "      <td>124</td>\n",
       "      <td>1</td>\n",
       "      <td>1</td>\n",
       "      <td>1</td>\n",
       "    </tr>\n",
       "  </tbody>\n",
       "</table>\n",
       "</div>"
      ],
      "text/plain": [
       "        auth gender  itemInSession  length level  \\\n",
       "0  Cancelled      F             67     NaN  free   \n",
       "1  Cancelled      M            138     NaN  paid   \n",
       "2  Cancelled      F             20     NaN  paid   \n",
       "3  Logged In      M              7     NaN  free   \n",
       "4  Cancelled      F             44     NaN  paid   \n",
       "\n",
       "                             location method                       page  \\\n",
       "0     Bridgeport-Stamford-Norwalk, CT    GET  Cancellation Confirmation   \n",
       "1  Chicago-Naperville-Elgin, IL-IN-WI    GET  Cancellation Confirmation   \n",
       "2   Allentown-Bethlehem-Easton, PA-NJ    GET  Cancellation Confirmation   \n",
       "3                  Corpus Christi, TX    PUT            Add to Playlist   \n",
       "4              Vineland-Bridgeton, NJ    GET  Cancellation Confirmation   \n",
       "\n",
       "    registration  sessionId  status             ts  userId  Churn_Event  \\\n",
       "0  1538016340000        166     200  1539254318000  100010            1   \n",
       "1  1536269906000        239     200  1540877026000  200002            1   \n",
       "2  1536885688000       1228     200  1539187234000     296            1   \n",
       "3  1533157139000       2220     200  1542265610000     125            0   \n",
       "4  1532224335000       3475     200  1541948983000     124            1   \n",
       "\n",
       "   Churn_User  Rank  \n",
       "0           1     1  \n",
       "1           1     1  \n",
       "2           1     1  \n",
       "3           0     1  \n",
       "4           1     1  "
      ]
     },
     "execution_count": 23,
     "metadata": {},
     "output_type": "execute_result"
    }
   ],
   "source": [
    "#Select the latest row for each user \n",
    "#If they have churned this will be the cancellation page, otherwise whatever the user's last activity was\n",
    "#There are a small number of users with two entries with identical timestamps, so added itemInSession to the ordering\n",
    "#to ensure only 1 record is selected per user\n",
    "user_time_window = Window.partitionBy('userId').orderBy(desc('ts'), desc('itemInSession'))\n",
    "\n",
    "user_event_log = user_event_log.withColumn('Rank',dense_rank().over(user_time_window))\n",
    "\n",
    "users_df = user_event_log.filter(user_event_log.Rank == 1).toPandas()\n",
    "users_df.head(5)"
   ]
  },
  {
   "cell_type": "code",
   "execution_count": 24,
   "id": "2ee8dd57",
   "metadata": {},
   "outputs": [
    {
     "data": {
      "text/html": [
       "<div>\n",
       "<style scoped>\n",
       "    .dataframe tbody tr th:only-of-type {\n",
       "        vertical-align: middle;\n",
       "    }\n",
       "\n",
       "    .dataframe tbody tr th {\n",
       "        vertical-align: top;\n",
       "    }\n",
       "\n",
       "    .dataframe thead th {\n",
       "        text-align: right;\n",
       "    }\n",
       "</style>\n",
       "<table border=\"1\" class=\"dataframe\">\n",
       "  <thead>\n",
       "    <tr style=\"text-align: right;\">\n",
       "      <th></th>\n",
       "      <th>userId</th>\n",
       "      <th>session_count</th>\n",
       "      <th>Churn_User</th>\n",
       "    </tr>\n",
       "  </thead>\n",
       "  <tbody>\n",
       "    <tr>\n",
       "      <th>0</th>\n",
       "      <td>100010</td>\n",
       "      <td>2</td>\n",
       "      <td>1</td>\n",
       "    </tr>\n",
       "    <tr>\n",
       "      <th>1</th>\n",
       "      <td>200002</td>\n",
       "      <td>5</td>\n",
       "      <td>1</td>\n",
       "    </tr>\n",
       "    <tr>\n",
       "      <th>2</th>\n",
       "      <td>296</td>\n",
       "      <td>5</td>\n",
       "      <td>1</td>\n",
       "    </tr>\n",
       "    <tr>\n",
       "      <th>3</th>\n",
       "      <td>125</td>\n",
       "      <td>3</td>\n",
       "      <td>0</td>\n",
       "    </tr>\n",
       "    <tr>\n",
       "      <th>4</th>\n",
       "      <td>124</td>\n",
       "      <td>17</td>\n",
       "      <td>1</td>\n",
       "    </tr>\n",
       "  </tbody>\n",
       "</table>\n",
       "</div>"
      ],
      "text/plain": [
       "   userId  session_count  Churn_User\n",
       "0  100010              2           1\n",
       "1  200002              5           1\n",
       "2     296              5           1\n",
       "3     125              3           0\n",
       "4     124             17           1"
      ]
     },
     "execution_count": 24,
     "metadata": {},
     "output_type": "execute_result"
    }
   ],
   "source": [
    "#Count number of sessions per user\n",
    "user_session_count = user_event_log.groupBy('userId').agg(countDistinct('sessionId').alias('session_count'))\n",
    "\n",
    "#join churn_user flag on for visualisation\n",
    "user_session_count_df = user_session_count.join(user_event_log.select('userId','Churn_User').distinct(),'userId','outer') \\\n",
    "                                          .toPandas()\n",
    "\n",
    "user_session_count_df.head()"
   ]
  },
  {
   "cell_type": "code",
   "execution_count": 25,
   "id": "b89a9aaf",
   "metadata": {},
   "outputs": [],
   "source": [
    "def plot_churn_counts(df, col):\n",
    "    '''Plot countplot for specified column, split by churn status'''\n",
    "    if col == 'Churn_User':\n",
    "        plt = sns.countplot(x=col, data=df);\n",
    "        plt.set_xlabel('User Churned', fontsize=15)\n",
    "    else:\n",
    "        plt = sns.countplot(x=col, data=df, hue='Churn_User');\n",
    "        plt.set_xlabel(col.capitalize(), fontsize=15)\n",
    "    plt.set_ylabel(\"Count of users\", fontsize=15)\n",
    "    plt.tick_params(labelsize=10)"
   ]
  },
  {
   "cell_type": "code",
   "execution_count": 26,
   "id": "ad559bbc",
   "metadata": {},
   "outputs": [
    {
     "data": {
      "image/png": "[encoded data removed]",
      "text/plain": [
       "<Figure size 640x480 with 1 Axes>"
      ]
     },
     "metadata": {},
     "output_type": "display_data"
    }
   ],
   "source": [
    "plot_churn_counts(users_df,'Churn_User')"
   ]
  },
  {
   "cell_type": "code",
   "execution_count": 27,
   "id": "ce82b871",
   "metadata": {},
   "outputs": [
    {
     "data": {
      "image/png": "[encoded data removed]",
      "text/plain": [
       "<Figure size 640x480 with 1 Axes>"
      ]
     },
     "metadata": {},
     "output_type": "display_data"
    }
   ],
   "source": [
    "plot_churn_counts(users_df,'gender')"
   ]
  },
  {
   "cell_type": "code",
   "execution_count": 28,
   "id": "444d05ff",
   "metadata": {},
   "outputs": [
    {
     "data": {
      "image/png": "[encoded data removed]",
      "text/plain": [
       "<Figure size 640x480 with 1 Axes>"
      ]
     },
     "metadata": {},
     "output_type": "display_data"
    }
   ],
   "source": [
    "plot_churn_counts(users_df,'level')"
   ]
  },
  {
   "cell_type": "code",
   "execution_count": 29,
   "id": "d8e35872",
   "metadata": {},
   "outputs": [
    {
     "data": {
      "image/png": "[encoded data removed]",
      "text/plain": [
       "<Figure size 640x480 with 1 Axes>"
      ]
     },
     "metadata": {},
     "output_type": "display_data"
    }
   ],
   "source": [
    "plot_churn_counts(user_session_count_df,'session_count')\n",
    "plt.locator_params(axis='x', nbins=30)\n",
    "plt.legend(loc=\"upper right\");"
   ]
  },
  {
   "cell_type": "markdown",
   "id": "ef209a3d",
   "metadata": {},
   "source": [
    "From these visualizations we can see that there are more male than female users and that they have a similar churn rate. The churn rate is also higher for paid users than free users, as free users can simply stop using the service without cancelling. New or infrequent users, with less than 15 sessions in our data period are much more likely to churn than users with a high number of sessions, which seems sensible - happier users will be much more likely to return to the service."
   ]
  },
  {
   "cell_type": "markdown",
   "id": "53652541",
   "metadata": {},
   "source": [
    "## 4. Feature Engineering"
   ]
  },
  {
   "cell_type": "markdown",
   "id": "d2c0f717",
   "metadata": {},
   "source": [
    "Spark machine learning models require the input features to be in numeric form, so we'll focus on creating numeric rather than categorical factors. There are some categorical factors in the input data that can be easily converted to a binary numeric representation, so we will also consider these factors."
   ]
  },
  {
   "cell_type": "code",
   "execution_count": 30,
   "id": "72a0ae54",
   "metadata": {},
   "outputs": [
    {
     "data": {
      "text/plain": [
       "Row(auth='Cancelled', gender=1, itemInSession=67, length=None, level='free', location='Bridgeport-Stamford-Norwalk, CT', method='GET', page='Cancellation Confirmation', registration=1538016340000, sessionId=166, status=200, ts=1539254318000, userId='100010', Churn_Event=1, Churn_User=1, Rank=1)"
      ]
     },
     "execution_count": 30,
     "metadata": {},
     "output_type": "execute_result"
    }
   ],
   "source": [
    "#Convert gender to binary categorical feature\n",
    "user_event_log = user_event_log.withColumn(\"gender\", when(user_event_log.gender == \"M\",0) \\\n",
    "                  .when(user_event_log.gender == \"F\",1))\n",
    "\n",
    "user_event_log.head()"
   ]
  },
  {
   "cell_type": "markdown",
   "id": "e3ec2fec",
   "metadata": {},
   "source": [
    "The event log captures the user's subscription level (paid/free) at each page. Since we're looking to construct a user-level modelling dataset to predict which users will churn, it would be more useful to have a flag that indicates their most recent level and whether they have ever previously been in the paid tier."
   ]
  },
  {
   "cell_type": "code",
   "execution_count": 31,
   "id": "cbc666e1",
   "metadata": {},
   "outputs": [],
   "source": [
    "#Map level to binary indicator\n",
    "user_event_log = user_event_log.withColumn(\"level\", when(user_event_log.level == \"free\",0) \\\n",
    "      .when(user_event_log.level == \"paid\",1))"
   ]
  },
  {
   "cell_type": "code",
   "execution_count": 32,
   "id": "b83f6cc4",
   "metadata": {},
   "outputs": [],
   "source": [
    "#For each user, identify their most recent level in the event log using the Window function already used to identify churn\n",
    "#Also create a flag to identify users who have ever been in the paid tier\n",
    "user_current_level = user_event_log.select('userId',\n",
    "                                           Ffirst('level',True).over(user_window).alias('current_level'),\n",
    "                                           Fmax('level').over(user_window).alias('ever_paid')) \\\n",
    "                                    .distinct()"
   ]
  },
  {
   "cell_type": "code",
   "execution_count": 33,
   "id": "1fe67ffb",
   "metadata": {},
   "outputs": [
    {
     "name": "stdout",
     "output_type": "stream",
     "text": [
      "+--------------------+--------+-----------+-------------+---------+-----------+-------+----------+\n",
      "|                page|p_friend|p_thumbs_up|p_thumbs_down|p_upgrade|p_downgrade|p_error|p_playlist|\n",
      "+--------------------+--------+-----------+-------------+---------+-----------+-------+----------+\n",
      "|     Add to Playlist|       0|          0|            0|        0|          0|      0|         1|\n",
      "|                Help|       0|          0|            0|        0|          0|      0|         0|\n",
      "|Cancellation Conf...|       0|          0|            0|        0|          0|      0|         0|\n",
      "|         Roll Advert|       0|          0|            0|        0|          0|      0|         0|\n",
      "|    Submit Downgrade|       0|          0|            0|        0|          1|      0|         0|\n",
      "|         Thumbs Down|       0|          0|            1|        0|          0|      0|         0|\n",
      "|            Settings|       0|          0|            0|        0|          0|      0|         0|\n",
      "|              Cancel|       0|          0|            0|        0|          0|      0|         0|\n",
      "|              Logout|       0|          0|            0|        0|          0|      0|         0|\n",
      "|          Add Friend|       1|          0|            0|        0|          0|      0|         0|\n",
      "|               Error|       0|          0|            0|        0|          0|      1|         0|\n",
      "|                Home|       0|          0|            0|        0|          0|      0|         0|\n",
      "|       Save Settings|       0|          0|            0|        0|          0|      0|         0|\n",
      "|               About|       0|          0|            0|        0|          0|      0|         0|\n",
      "|      Submit Upgrade|       0|          0|            0|        1|          0|      0|         0|\n",
      "|            NextSong|       0|          0|            0|        0|          0|      0|         0|\n",
      "|             Upgrade|       0|          0|            0|        0|          0|      0|         0|\n",
      "|           Downgrade|       0|          0|            0|        0|          0|      0|         0|\n",
      "|           Thumbs Up|       0|          1|            0|        0|          0|      0|         0|\n",
      "+--------------------+--------+-----------+-------------+---------+-----------+-------+----------+\n",
      "\n"
     ]
    }
   ],
   "source": [
    "#create page-view counts per user, using the same approach as we used to create our churn flag\n",
    "#ignore uninteresting pages such as About or Home\n",
    "#Also ignore NextSong and Roll Advert as these will be heavily linked to session length so will be considered separately\n",
    "page_dict = {'friend': 'Add Friend', 'thumbs_up': 'Thumbs Up', 'thumbs_down': 'Thumbs Down',\n",
    "             'upgrade': 'Submit Upgrade', 'downgrade': 'Submit Downgrade','error': 'Error', \n",
    "             'playlist': 'Add to Playlist'\n",
    "}\n",
    "for key in page_dict.keys():\n",
    "    udf_page = udf(lambda x: 1 if x == page_dict[key] else 0, IntegerType())\n",
    "    user_event_log = user_event_log.withColumn('p_' + key, udf_page(\"page\"))\n",
    "\n",
    "#Check each page type has been set correctly\n",
    "user_event_log.select('page',user_event_log.colRegex(\"`(p_)+?.+`\")).distinct().show()\n"
   ]
  },
  {
   "cell_type": "code",
   "execution_count": 34,
   "id": "ec68039d",
   "metadata": {},
   "outputs": [
    {
     "name": "stdout",
     "output_type": "stream",
     "text": [
      "+------+----------+-------------+---------------+-----------+-------------+---------+------------+\n",
      "|userId|sum_friend|sum_thumbs_up|sum_thumbs_down|sum_upgrade|sum_downgrade|sum_error|sum_playlist|\n",
      "+------+----------+-------------+---------------+-----------+-------------+---------+------------+\n",
      "|100010|         3|            4|              3|          0|            0|        0|           1|\n",
      "|200002|         2|           15|              5|          1|            0|        0|           6|\n",
      "|   296|         2|            8|              0|          1|            0|        0|           3|\n",
      "|   125|         3|            3|              1|          0|            0|        0|           2|\n",
      "|   124|        26|          102|             15|          0|            0|        0|          45|\n",
      "|    51|         3|           16|              1|          0|            0|        2|           8|\n",
      "|     7|        16|           12|              4|          0|            0|        0|           6|\n",
      "|200037|         2|            5|              3|          0|            0|        0|           4|\n",
      "|   169|         6|            6|              0|          0|            0|        0|           0|\n",
      "|   205|        21|           50|             10|          0|            0|        1|          25|\n",
      "|   272|         0|            7|              4|          0|            0|        0|           3|\n",
      "|    15|        32|           93|             16|          0|            0|        1|          57|\n",
      "|   232|        43|           97|             17|          2|            1|        1|          61|\n",
      "|   234|        17|           91|             22|          1|            0|        2|          51|\n",
      "|   282|        79|          133|             29|          1|            0|        4|          66|\n",
      "|    54|        20|           26|              7|          0|            0|        0|          15|\n",
      "|   155|         0|            7|              0|          0|            0|        1|           4|\n",
      "|200043|        12|           33|             22|          1|            0|        0|          23|\n",
      "|100014|         3|           14|              3|          0|            0|        0|          11|\n",
      "|   132|         4|            4|              1|          1|            0|        0|           4|\n",
      "+------+----------+-------------+---------------+-----------+-------------+---------+------------+\n",
      "only showing top 20 rows\n",
      "\n"
     ]
    }
   ],
   "source": [
    "#Create count variables for each of these page views\n",
    "#partition the dataframe based on the userId column\n",
    "user_window = Window.partitionBy(\"userId\")\n",
    "#return the sum of values for each page type\n",
    "for key in page_dict:\n",
    "    user_event_log = user_event_log.withColumn('sum_' + key, Fsum('p_' + key).over(user_window))\n",
    "\n",
    "#Check first few rows for unique users\n",
    "user_page_counts = user_event_log.select('userId',user_event_log.colRegex(\"`(sum_)+?.+`\")).distinct()\n",
    "user_page_counts.show()"
   ]
  },
  {
   "cell_type": "markdown",
   "id": "c47ce017",
   "metadata": {},
   "source": [
    "Create session-aggregated features such as average length of session per user"
   ]
  },
  {
   "cell_type": "code",
   "execution_count": 35,
   "id": "f5012188",
   "metadata": {},
   "outputs": [],
   "source": [
    "flag_song = udf(lambda x: 1 if x == \"NextSong\" else 0, IntegerType())\n",
    "flag_advert = udf(lambda x: 1 if x == \"Roll Advert\" else 0, IntegerType())\n",
    "\n",
    "user_event_log = user_event_log.withColumn(\"song\", flag_song(\"page\"))\n",
    "user_event_log = user_event_log.withColumn(\"advert\", flag_advert(\"page\"))"
   ]
  },
  {
   "cell_type": "code",
   "execution_count": 36,
   "id": "e351fad7",
   "metadata": {
    "scrolled": false
   },
   "outputs": [
    {
     "name": "stdout",
     "output_type": "stream",
     "text": [
      "+------+---------+------------------+--------------------+-------------+-------------+------------------------+\n",
      "|userId|sessionId|session_song_count|session_advert_count|  session_end|session_start|session_duration_seconds|\n",
      "+------+---------+------------------+--------------------+-------------+-------------+------------------------+\n",
      "|100002|      293|                73|                   1|1541146660000|1541126654000|                 20006.0|\n",
      "|100025|      287|                80|                   1|1541178742000|1541157564000|                 21178.0|\n",
      "|100028|       28|                18|                   6|1538375989000|1538371925000|                  4064.0|\n",
      "|   148|     2290|                51|                   6|1540928387000|1540916022000|                 12365.0|\n",
      "|   157|     3145|               250|                   0|1541481617000|1541421220000|                 60397.0|\n",
      "+------+---------+------------------+--------------------+-------------+-------------+------------------------+\n",
      "only showing top 5 rows\n",
      "\n"
     ]
    }
   ],
   "source": [
    "session_window = Window.partitionBy([\"userId\", \"sessionId\"]).orderBy(desc(\"ts\")) \\\n",
    "                    .rangeBetween(Window.unboundedPreceding, Window.unboundedFollowing)\n",
    "session_timings = user_event_log.select('userId',\n",
    "                                        'sessionId',\n",
    "                                        Fsum('song').over(session_window).alias('session_song_count'),\n",
    "                                        Fsum('advert').over(session_window).alias('session_advert_count'),\n",
    "                                        Fmax('ts').over(session_window).alias('session_end'),\n",
    "                                        Fmin('ts').over(session_window).alias('session_start')).distinct()\n",
    "session_timings = session_timings.withColumn('session_duration_seconds', (session_timings['session_end'] - session_timings['session_start'])/1000)\n",
    "session_timings.show(5)"
   ]
  },
  {
   "cell_type": "code",
   "execution_count": 37,
   "id": "fb5efd7f",
   "metadata": {},
   "outputs": [
    {
     "name": "stdout",
     "output_type": "stream",
     "text": [
      "+------+-----------------+----------------------------+-------------------+--------------------+\n",
      "|userId|avg_session_songs|avg_session_duration_seconds|avg_session_adverts|   ratio_advert_song|\n",
      "+------+-----------------+----------------------------+-------------------+--------------------+\n",
      "|     2|70.81818181818181|          17160.272727272728|                0.0|                 0.0|\n",
      "|     3|             24.0|                      6254.0|                1.0|0.041666666666666664|\n",
      "|     4|          26.3125|                     6075.25|               2.25|  0.0855106888361045|\n",
      "|     5|            54.75|                     13246.5|               4.75|  0.0867579908675799|\n",
      "|     6|59.31578947368421|          14649.052631578947| 2.4210526315789473| 0.04081632653061224|\n",
      "+------+-----------------+----------------------------+-------------------+--------------------+\n",
      "only showing top 5 rows\n",
      "\n"
     ]
    }
   ],
   "source": [
    "avg_session_duration = session_timings.groupBy('userId') \\\n",
    "                                      .agg(Fmean('session_song_count').alias('avg_session_songs'),\n",
    "                                           Fmean('session_duration_seconds').alias('avg_session_duration_seconds'),\n",
    "                                           Fmean('session_advert_count').alias('avg_session_adverts')) \\\n",
    "                                      .orderBy(session_timings.userId.cast('Int'))\n",
    "avg_session_duration = avg_session_duration.withColumn('ratio_advert_song', (Fcol(\"avg_session_adverts\") / Fcol(\"avg_session_songs\")))\n",
    "avg_session_duration.show(5)"
   ]
  },
  {
   "cell_type": "code",
   "execution_count": 38,
   "id": "ac850963",
   "metadata": {},
   "outputs": [],
   "source": [
    "#Join together all of the newly engineered features to create a modelling dataset\n",
    "users = user_event_log.select('userId','Churn_User','gender').distinct()\n",
    "df = users.join(user_current_level,'userId','outer') \\\n",
    "          .join(user_session_count,'userId','outer') \\\n",
    "          .join(avg_session_duration,'userId','outer') \\\n",
    "          .join(user_page_counts,'userId','outer')\n",
    "\n",
    "#Rename Churn_User to label for setting up an ML pipeline\n",
    "df = df.withColumnRenamed('Churn_User', 'label')"
   ]
  },
  {
   "cell_type": "code",
   "execution_count": 39,
   "id": "f2b60e0d",
   "metadata": {},
   "outputs": [
    {
     "data": {
      "text/plain": [
       "Row(userId='100010', label=1, gender=1, current_level=0, ever_paid=0, session_count=2, avg_session_songs=48.0, avg_session_duration_seconds=12622.5, avg_session_adverts=11.0, ratio_advert_song=0.22916666666666666, sum_friend=3, sum_thumbs_up=4, sum_thumbs_down=3, sum_upgrade=0, sum_downgrade=0, sum_error=0, sum_playlist=1)"
      ]
     },
     "execution_count": 39,
     "metadata": {},
     "output_type": "execute_result"
    }
   ],
   "source": [
    "df.head()"
   ]
  },
  {
   "cell_type": "code",
   "execution_count": 40,
   "id": "a0690474",
   "metadata": {},
   "outputs": [
    {
     "data": {
      "text/plain": [
       "448"
      ]
     },
     "execution_count": 40,
     "metadata": {},
     "output_type": "execute_result"
    }
   ],
   "source": [
    "#Check that we still have 448 rows (one for each unique userId)\n",
    "df.count()"
   ]
  },
  {
   "cell_type": "markdown",
   "id": "79d284c4",
   "metadata": {},
   "source": [
    "## 5. Modelling"
   ]
  },
  {
   "cell_type": "code",
   "execution_count": 41,
   "id": "5894c156",
   "metadata": {},
   "outputs": [],
   "source": [
    "#Split data into train and test\n",
    "train, test = df.randomSplit([0.7, 0.3], seed=42)"
   ]
  },
  {
   "cell_type": "code",
   "execution_count": 42,
   "id": "eddf7643",
   "metadata": {},
   "outputs": [
    {
     "name": "stdout",
     "output_type": "stream",
     "text": [
      "+-----+-----+\n",
      "|label|count|\n",
      "+-----+-----+\n",
      "|    1|   72|\n",
      "|    0|  247|\n",
      "+-----+-----+\n",
      "\n",
      "+-----+-----+\n",
      "|label|count|\n",
      "+-----+-----+\n",
      "|    1|   27|\n",
      "|    0|  102|\n",
      "+-----+-----+\n",
      "\n"
     ]
    }
   ],
   "source": [
    "train.groupBy('label').count().show()\n",
    "test.groupBy('label').count().show()"
   ]
  },
  {
   "cell_type": "code",
   "execution_count": 43,
   "id": "4330cf21",
   "metadata": {},
   "outputs": [],
   "source": [
    "#Create list of features for modelling - everything in df except userId and label\n",
    "feature_columns = list(set(df.columns) - set(['userId','label']))"
   ]
  },
  {
   "cell_type": "code",
   "execution_count": 44,
   "id": "1901076f",
   "metadata": {},
   "outputs": [],
   "source": [
    "#Set up components for modelling pipeline:\n",
    "\n",
    "#Pyspark requires all input features to be contained in a numeric vector \n",
    "assembler = VectorAssembler(inputCols=feature_columns, outputCol='feature_col_vect')\n",
    "\n",
    "#Scale numeric values using StandardScaler to avoid features with a larger range having too much influence\n",
    "#e.g. avg_session_duration_seconds has values in the 10s of thousands, some other features have a maximum of 1\n",
    "scaler = StandardScaler(inputCol=\"feature_col_vect\", outputCol=\"features\")\n",
    "\n",
    "#Set up evaluator to calculate F1 score\n",
    "f1_evaluator = MulticlassClassificationEvaluator(metricName='f1')"
   ]
  },
  {
   "cell_type": "code",
   "execution_count": 46,
   "id": "bf52ee95",
   "metadata": {},
   "outputs": [],
   "source": [
    "def fit_score_cv_pipeline(crossval, train_df, test_df):\n",
    "    '''Fit Pyspark Crossvalidation pipeline and score on train and test datasets'''\n",
    "    t_start = pd.Timestamp.now()\n",
    "    print(f'Beginning to fit pipeline {t_start}')\n",
    "    cv_model = crossval.fit(train_df)\n",
    "    t_fit_end = pd.Timestamp.now()\n",
    "    print(f'fit time: {(t_fit_end - t_start).total_seconds()} seconds')\n",
    "    print(f'best params: {cv_model.getEstimatorParamMaps()[np.argmax(cv_model.avgMetrics)]}')\n",
    "    train_preds = cv_model.transform(train_df)\n",
    "    test_preds = cv_model.transform(test_df)\n",
    "    print(f'Cross validation Avg F1 score: {cv_model.avgMetrics[np.argmax(cv_model.avgMetrics)]}')\n",
    "    print(f'test F1 score: {f1_evaluator.evaluate(test_preds)}')\n",
    "    print(f'test Accuracy: {round(test_preds.filter(test_preds.label == test_preds.prediction).count()/ test_preds.count()*100)}%')\n",
    "    t_score_end = pd.Timestamp.now()\n",
    "    print(f'score time: {(t_score_end - t_fit_end).total_seconds()} seconds')\n",
    "    \n",
    "    #plot cross validate score to check tuning has resulted in differences in model performance\n",
    "    plt.scatter(np.arange(len(cv_model.avgMetrics)),cv_model.avgMetrics)\n",
    "    plt.xlabel('Tuning iteration')\n",
    "    plt.ylabel('Avg cross validation F1 score');\n",
    "    return cv_model"
   ]
  },
  {
   "cell_type": "markdown",
   "id": "1da6ea75",
   "metadata": {},
   "source": [
    "### Logistic Regression"
   ]
  },
  {
   "cell_type": "code",
   "execution_count": 47,
   "id": "65394899",
   "metadata": {},
   "outputs": [],
   "source": [
    "#Initialize logistic regression model and pipeline\n",
    "lr =  LogisticRegression(maxIter=50)\n",
    "pipeline = Pipeline(stages=[assembler, scaler, lr])\n",
    "\n",
    "#Define hyperparameter search space for tuning\n",
    "lr_paramGrid = ParamGridBuilder() \\\n",
    "    .addGrid(lr.regParam,[0, 0.01, 0.1]) \\\n",
    "    .addGrid(lr.elasticNetParam,[0, 0.01, 0.1]) \\\n",
    "    .build()\n",
    "\n",
    "#Set up 3-fold cross validation\n",
    "lr_cv = CrossValidator(estimator=pipeline,\n",
    "                       estimatorParamMaps=lr_paramGrid,\n",
    "                       evaluator=f1_evaluator,\n",
    "                       numFolds=3)\n"
   ]
  },
  {
   "cell_type": "code",
   "execution_count": 48,
   "id": "816069a8",
   "metadata": {},
   "outputs": [
    {
     "name": "stdout",
     "output_type": "stream",
     "text": [
      "Beginning to fit pipeline 2022-10-11 23:21:12.812637\n",
      "fit time: 2009.25434 seconds\n",
      "best params: {Param(parent='LogisticRegression_0c4d5b06cf7d', name='regParam', doc='regularization parameter (>= 0).'): 0.0, Param(parent='LogisticRegression_0c4d5b06cf7d', name='elasticNetParam', doc='the ElasticNet mixing parameter, in range [0, 1]. For alpha = 0, the penalty is an L2 penalty. For alpha = 1, it is an L1 penalty.'): 0.0}\n",
      "Cross validation Avg F1 score: 0.7696979116279185\n",
      "test F1 score: 0.76378502291078\n",
      "test Accuracy: 79%\n",
      "score time: 94.637961 seconds\n"
     ]
    },
    {
     "data": {
      "image/png": "[encoded data removed]",
      "text/plain": [
       "<Figure size 640x480 with 1 Axes>"
      ]
     },
     "metadata": {},
     "output_type": "display_data"
    }
   ],
   "source": [
    "lr_model = fit_score_cv_pipeline(lr_cv,train,test)"
   ]
  },
  {
   "cell_type": "markdown",
   "id": "90ce3f98",
   "metadata": {},
   "source": [
    "### Linear SVM"
   ]
  },
  {
   "cell_type": "code",
   "execution_count": 87,
   "id": "334b95b8",
   "metadata": {},
   "outputs": [],
   "source": [
    "#Initialize linear support vector pipeline\n",
    "svm = LinearSVC(maxIter=50)\n",
    "pipeline = Pipeline(stages=[assembler, scaler, svm])\n",
    "\n",
    "#Define hyperparameter search space for tuning\n",
    "svm_paramGrid = ParamGridBuilder() \\\n",
    "        .addGrid(svm.regParam,[ 0, 0.01, 0.1]) \\\n",
    "        .build()\n",
    "\n",
    "#Set up 3-fold cross validation\n",
    "svm_cv = CrossValidator(estimator=pipeline,\n",
    "                        estimatorParamMaps=svm_paramGrid,\n",
    "                        evaluator=f1_evaluator,\n",
    "                        numFolds=3)\n"
   ]
  },
  {
   "cell_type": "code",
   "execution_count": 88,
   "id": "a0d47bd7",
   "metadata": {},
   "outputs": [
    {
     "name": "stdout",
     "output_type": "stream",
     "text": [
      "Beginning to fit pipeline 2022-10-11 21:56:25.842166\n",
      "fit time: 1142.944495 seconds\n",
      "best params: {Param(parent='LinearSVC_84052bdf84ce', name='regParam', doc='regularization parameter (>= 0).'): 0.0}\n",
      "cross validation avg F1 score: 0.7398866974624534\n",
      "test F1 score: 0.6905656545140653\n",
      "test accuracy: 78%\n",
      "score time: 96.36367 seconds\n"
     ]
    },
    {
     "data": {
      "image/png": "[encoded data removed]",
      "text/plain": [
       "<Figure size 640x480 with 1 Axes>"
      ]
     },
     "metadata": {},
     "output_type": "display_data"
    }
   ],
   "source": [
    "svm_model = fit_score_cv_pipeline(svm_cv,train,test)"
   ]
  },
  {
   "cell_type": "markdown",
   "id": "97e58197",
   "metadata": {},
   "source": [
    "### Decision Tree"
   ]
  },
  {
   "cell_type": "code",
   "execution_count": 49,
   "id": "3aab23d9",
   "metadata": {},
   "outputs": [],
   "source": [
    "#Initialize decision tree pipeline\n",
    "dtc = DecisionTreeClassifier(seed=6582595169495365855)\n",
    "pipeline = Pipeline(stages=[assembler, scaler, dtc])\n",
    "\n",
    "#Define hyperparameter search space for tuning\n",
    "dt_paramGrid = ParamGridBuilder() \\\n",
    "        .addGrid(dtclassifier.maxDepth,[2,4,6,8]) \\\n",
    "        .addGrid(dtclassifier.impurity,['entropy','gini']) \\\n",
    "        .build()\n",
    "\n",
    "#Set up 3-fold cross validation\n",
    "dt_cv = CrossValidator(estimator=pipeline,\n",
    "                       estimatorParamMaps=dt_paramGrid,\n",
    "                       evaluator=f1_evaluator,\n",
    "                       numFolds=3)\n"
   ]
  },
  {
   "cell_type": "code",
   "execution_count": 50,
   "id": "e52ec0d3",
   "metadata": {},
   "outputs": [
    {
     "name": "stdout",
     "output_type": "stream",
     "text": [
      "Beginning to fit pipeline 2022-10-12 00:02:44.315608\n",
      "fit time: 535.385245 seconds\n",
      "best params: {Param(parent='DecisionTreeClassifier_0a12bf51a468', name='maxDepth', doc='Maximum depth of the tree. (>= 0) E.g., depth 0 means 1 leaf node; depth 1 means 1 internal node + 2 leaf nodes.'): 2, Param(parent='DecisionTreeClassifier_0a12bf51a468', name='impurity', doc='Criterion used for information gain calculation (case-insensitive). Supported options: entropy, gini'): 'entropy'}\n",
      "Cross validation Avg F1 score: 0.7466769965421793\n",
      "test F1 score: 0.6767877000435141\n",
      "test Accuracy: 73%\n",
      "score time: 95.939511 seconds\n"
     ]
    },
    {
     "data": {
      "image/png": "[encoded data removed]",
      "text/plain": [
       "<Figure size 640x480 with 1 Axes>"
      ]
     },
     "metadata": {},
     "output_type": "display_data"
    }
   ],
   "source": [
    "dt_model = fit_score_cv_pipeline(dt_cv,train,test)"
   ]
  },
  {
   "cell_type": "markdown",
   "id": "41f44280",
   "metadata": {},
   "source": [
    "### Random Forest"
   ]
  },
  {
   "cell_type": "code",
   "execution_count": 63,
   "id": "9bbd3f75",
   "metadata": {},
   "outputs": [],
   "source": [
    "#Initialize decision tree pipeline\n",
    "rfc = RandomForestClassifier(seed = 6582595169495365855)\n",
    "pipeline = Pipeline(stages=[assembler, scaler, rfc])\n",
    "\n",
    "#Define hyperparameter search space for tuning\n",
    "paramGrid = ParamGridBuilder() \\\n",
    "    .addGrid(rfc.maxDepth, [3, 4, 5, 6]) \\\n",
    "    .addGrid(rfc.numTrees, [10, 20, 50]) \\\n",
    "    .build()\n",
    "\n",
    "#Set up 3-fold cross validation\n",
    "crossval_rf = CrossValidator(estimator=pipeline,\n",
    "                              estimatorParamMaps=paramGrid,\n",
    "                              evaluator=f1_evaluator,\n",
    "                              numFolds=3)\n"
   ]
  },
  {
   "cell_type": "code",
   "execution_count": 64,
   "id": "4c74f531",
   "metadata": {},
   "outputs": [
    {
     "name": "stdout",
     "output_type": "stream",
     "text": [
      "Beginning to fit pipeline 2022-10-11 19:24:16.700456\n",
      "fit time: 1343.486718 seconds\n",
      "best params: {Param(parent='RandomForestClassifier_ddac1e627bd4', name='maxDepth', doc='Maximum depth of the tree. (>= 0) E.g., depth 0 means 1 leaf node; depth 1 means 1 internal node + 2 leaf nodes.'): 5, Param(parent='RandomForestClassifier_ddac1e627bd4', name='numTrees', doc='Number of trees to train (>= 1).'): 20}\n",
      "cross validation avg F1 score: 0.7559823610486319\n",
      "test F1 score: 0.694442095372328\n",
      "test accuracy: 76%\n",
      "score time: 104.217633 seconds\n"
     ]
    },
    {
     "data": {
      "image/png": "[encoded data removed]",
      "text/plain": [
       "<Figure size 640x480 with 1 Axes>"
      ]
     },
     "metadata": {},
     "output_type": "display_data"
    }
   ],
   "source": [
    "rf_model = fit_score_cv_pipeline(crossval_rf,train,test)"
   ]
  },
  {
   "cell_type": "code",
   "execution_count": 79,
   "id": "19cee730",
   "metadata": {},
   "outputs": [
    {
     "data": {
      "text/html": [
       "<div>\n",
       "<style scoped>\n",
       "    .dataframe tbody tr th:only-of-type {\n",
       "        vertical-align: middle;\n",
       "    }\n",
       "\n",
       "    .dataframe tbody tr th {\n",
       "        vertical-align: top;\n",
       "    }\n",
       "\n",
       "    .dataframe thead th {\n",
       "        text-align: right;\n",
       "    }\n",
       "</style>\n",
       "<table border=\"1\" class=\"dataframe\">\n",
       "  <thead>\n",
       "    <tr style=\"text-align: right;\">\n",
       "      <th>label</th>\n",
       "      <th>0</th>\n",
       "      <th>1</th>\n",
       "    </tr>\n",
       "    <tr>\n",
       "      <th>prediction</th>\n",
       "      <th></th>\n",
       "      <th></th>\n",
       "    </tr>\n",
       "  </thead>\n",
       "  <tbody>\n",
       "    <tr>\n",
       "      <th>0.0</th>\n",
       "      <td>87</td>\n",
       "      <td>23</td>\n",
       "    </tr>\n",
       "    <tr>\n",
       "      <th>1.0</th>\n",
       "      <td>15</td>\n",
       "      <td>4</td>\n",
       "    </tr>\n",
       "  </tbody>\n",
       "</table>\n",
       "</div>"
      ],
      "text/plain": [
       "label        0   1\n",
       "prediction        \n",
       "0.0         87  23\n",
       "1.0         15   4"
      ]
     },
     "execution_count": 79,
     "metadata": {},
     "output_type": "execute_result"
    }
   ],
   "source": [
    "scores = nb_model.transform(test)\n",
    "\n",
    "scores_df = scores.toPandas()\n",
    "\n",
    "pd.crosstab(scores_df['prediction'],scores_df['label'])"
   ]
  },
  {
   "cell_type": "code",
   "execution_count": 53,
   "id": "c39c17f4",
   "metadata": {},
   "outputs": [
    {
     "data": {
      "text/html": [
       "<div>\n",
       "<style scoped>\n",
       "    .dataframe tbody tr th:only-of-type {\n",
       "        vertical-align: middle;\n",
       "    }\n",
       "\n",
       "    .dataframe tbody tr th {\n",
       "        vertical-align: top;\n",
       "    }\n",
       "\n",
       "    .dataframe thead th {\n",
       "        text-align: right;\n",
       "    }\n",
       "</style>\n",
       "<table border=\"1\" class=\"dataframe\">\n",
       "  <thead>\n",
       "    <tr style=\"text-align: right;\">\n",
       "      <th>label</th>\n",
       "      <th>0</th>\n",
       "      <th>1</th>\n",
       "    </tr>\n",
       "    <tr>\n",
       "      <th>prediction</th>\n",
       "      <th></th>\n",
       "      <th></th>\n",
       "    </tr>\n",
       "  </thead>\n",
       "  <tbody>\n",
       "    <tr>\n",
       "      <th>0.0</th>\n",
       "      <td>93</td>\n",
       "      <td>24</td>\n",
       "    </tr>\n",
       "    <tr>\n",
       "      <th>1.0</th>\n",
       "      <td>9</td>\n",
       "      <td>3</td>\n",
       "    </tr>\n",
       "  </tbody>\n",
       "</table>\n",
       "</div>"
      ],
      "text/plain": [
       "label        0   1\n",
       "prediction        \n",
       "0.0         93  24\n",
       "1.0          9   3"
      ]
     },
     "execution_count": 53,
     "metadata": {},
     "output_type": "execute_result"
    }
   ],
   "source": [
    "scores = dt_model.transform(test)\n",
    "\n",
    "scores_df = scores.toPandas()\n",
    "\n",
    "pd.crosstab(scores_df['prediction'],scores_df['label'])"
   ]
  },
  {
   "cell_type": "code",
   "execution_count": 58,
   "id": "062bf23d",
   "metadata": {},
   "outputs": [
    {
     "data": {
      "text/plain": [
       "6582595169495365855"
      ]
     },
     "execution_count": 58,
     "metadata": {},
     "output_type": "execute_result"
    }
   ],
   "source": [
    "dt_model.getSeed()"
   ]
  },
  {
   "cell_type": "code",
   "execution_count": 70,
   "id": "ccfe5474",
   "metadata": {},
   "outputs": [],
   "source": [
    "from pyspark.ml.classification import NaiveBayes\n",
    "nb = NaiveBayes()\n",
    "\n"
   ]
  },
  {
   "cell_type": "markdown",
   "id": "d6bc113e",
   "metadata": {},
   "source": [
    "### Naive Bayes"
   ]
  },
  {
   "cell_type": "code",
   "execution_count": 80,
   "id": "08f7d44b",
   "metadata": {},
   "outputs": [],
   "source": [
    "#Initialize decision tree pipeline\n",
    "nb = NaiveBayes()\n",
    "pipeline = Pipeline(stages=[assembler, scaler, nb])\n",
    "\n",
    "#Define hyperparameter search space for tuning\n",
    "paramGrid = ParamGridBuilder() \\\n",
    "    .addGrid(nb.smoothing, [0.5, 1, 5]) \\\n",
    "    .build()\n",
    "\n",
    "#Set up 3-fold cross validation\n",
    "crossval_nb = CrossValidator(estimator=pipeline,\n",
    "                              estimatorParamMaps=paramGrid,\n",
    "                              evaluator=f1_evaluator,\n",
    "                              numFolds=3)\n"
   ]
  },
  {
   "cell_type": "code",
   "execution_count": 81,
   "id": "97c7ecd7",
   "metadata": {},
   "outputs": [
    {
     "name": "stdout",
     "output_type": "stream",
     "text": [
      "Beginning to fit pipeline 2022-10-11 21:17:14.714148\n",
      "fit time: 590.715459 seconds\n",
      "best params: {Param(parent='NaiveBayes_25bf6e78af0c', name='smoothing', doc='The smoothing parameter, should be >= 0, default is 1.0'): 0.5}\n",
      "cross validation avg F1 score: 0.7399846064783004\n",
      "test F1 score: 0.6853692504340194\n",
      "test accuracy: 71%\n",
      "score time: 172.971633 seconds\n"
     ]
    },
    {
     "data": {
      "image/png": "[encoded data removed]",
      "text/plain": [
       "<Figure size 640x480 with 1 Axes>"
      ]
     },
     "metadata": {},
     "output_type": "display_data"
    }
   ],
   "source": [
    "nb_model = fit_score_cv_pipeline(crossval_nb,train,test)"
   ]
  }
 ],
 "metadata": {
  "kernelspec": {
   "display_name": "Python 3 (ipykernel)",
   "language": "python",
   "name": "python3"
  },
  "language_info": {
   "codemirror_mode": {
    "name": "ipython",
    "version": 3
   },
   "file_extension": ".py",
   "mimetype": "text/x-python",
   "name": "python",
   "nbconvert_exporter": "python",
   "pygments_lexer": "ipython3",
   "version": "3.8.13"
  }
 },
 "nbformat": 4,
 "nbformat_minor": 5
}
