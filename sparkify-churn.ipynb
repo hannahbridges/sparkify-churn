{
 "cells": [
  {
   "cell_type": "markdown",
   "id": "38968e15",
   "metadata": {},
   "source": [
    "# Sparkify - Predicting User Churn\n",
    "\n",
    "Sparkify is a fictional music streaming service similar to Spotify, with a free-tier supported by advertisements and a monthly subscription service. Predicting user churn enables them to target users who are considering leaving Sparkify and offering  special discounts or services to retain these users and maximize profit.\n",
    "\n",
    "This code will use data about user interactions to create features that could be predictive of which users will churn, and then train and evaluate models for this prediction task."
   ]
  },
  {
   "cell_type": "markdown",
   "id": "4c93b9bb",
   "metadata": {},
   "source": [
    "## 1. PySpark Setup"
   ]
  },
  {
   "cell_type": "code",
   "execution_count": 27,
   "id": "9f6dde91",
   "metadata": {},
   "outputs": [],
   "source": [
    "from pyspark.sql import SparkSession, Window\n",
    "from pyspark.sql.functions import udf, desc, when, col\n",
    "from pyspark.sql.types import IntegerType\n",
    "from pyspark.sql.functions import max as Fmax, sum as Fsum\n",
    "\n",
    "import pandas as pd\n",
    "import seaborn as sns\n",
    "import matplotlib.pyplot as plt\n",
    "\n",
    "import os\n",
    "os.environ['PYSPARK_PYTHON'] = 'python'"
   ]
  },
  {
   "cell_type": "code",
   "execution_count": 2,
   "id": "caa0ad2e",
   "metadata": {},
   "outputs": [],
   "source": [
    "spark = SparkSession \\\n",
    "    .builder \\\n",
    "    .appName(\"Sparkify Churn Prediction\") \\\n",
    "    .getOrCreate()"
   ]
  },
  {
   "cell_type": "markdown",
   "id": "22c46d9f",
   "metadata": {},
   "source": [
    "## 2. Load and Clean Dataset"
   ]
  },
  {
   "cell_type": "code",
   "execution_count": 3,
   "id": "57c33ec9",
   "metadata": {},
   "outputs": [
    {
     "data": {
      "text/plain": [
       "DataFrame[artist: string, auth: string, firstName: string, gender: string, itemInSession: bigint, lastName: string, length: double, level: string, location: string, method: string, page: string, registration: bigint, sessionId: bigint, song: string, status: bigint, ts: bigint, userAgent: string, userId: string]"
      ]
     },
     "execution_count": 3,
     "metadata": {},
     "output_type": "execute_result"
    }
   ],
   "source": [
    "#Read event data from mini file\n",
    "path = \"data/mini_sparkify_event_data.json\"\n",
    "sparkify_event_log = spark.read.json(path)\n",
    "\n",
    "sparkify_event_log.persist()"
   ]
  },
  {
   "cell_type": "code",
   "execution_count": 4,
   "id": "dca98dc3",
   "metadata": {},
   "outputs": [
    {
     "data": {
      "text/plain": [
       "Row(artist='Martha Tilston', auth='Logged In', firstName='Colin', gender='M', itemInSession=50, lastName='Freeman', length=277.89016, level='paid', location='Bakersfield, CA', method='PUT', page='NextSong', registration=1538173362000, sessionId=29, song='Rockpools', status=200, ts=1538352117000, userAgent='Mozilla/5.0 (Windows NT 6.1; WOW64; rv:31.0) Gecko/20100101 Firefox/31.0', userId='30')"
      ]
     },
     "execution_count": 4,
     "metadata": {},
     "output_type": "execute_result"
    }
   ],
   "source": [
    "sparkify_event_log.head()"
   ]
  },
  {
   "cell_type": "code",
   "execution_count": 5,
   "id": "61716dc8",
   "metadata": {},
   "outputs": [
    {
     "data": {
      "text/plain": [
       "0"
      ]
     },
     "execution_count": 5,
     "metadata": {},
     "output_type": "execute_result"
    }
   ],
   "source": [
    "#Check for any rows with a missing sessionId - these would likely be a data error within the Sparkify system\n",
    "sparkify_event_log.filter(sparkify_event_log['sessionId'] == '').count()\n",
    "#There are no rows which are missing a sessionId so no cleaning need to address these"
   ]
  },
  {
   "cell_type": "code",
   "execution_count": 6,
   "id": "231fd70c",
   "metadata": {},
   "outputs": [
    {
     "data": {
      "text/plain": [
       "8346"
      ]
     },
     "execution_count": 6,
     "metadata": {},
     "output_type": "execute_result"
    }
   ],
   "source": [
    "#Check for any rows with a missing userId - these won't be useful to predict user churn\n",
    "sparkify_event_log.filter(sparkify_event_log['userId'] == \"\").count()"
   ]
  },
  {
   "cell_type": "code",
   "execution_count": 7,
   "id": "d07729a7",
   "metadata": {},
   "outputs": [
    {
     "name": "stdout",
     "output_type": "stream",
     "text": [
      "+-------------------+\n",
      "|               page|\n",
      "+-------------------+\n",
      "|               Home|\n",
      "|              About|\n",
      "|Submit Registration|\n",
      "|              Login|\n",
      "|           Register|\n",
      "|               Help|\n",
      "|              Error|\n",
      "+-------------------+\n",
      "\n"
     ]
    }
   ],
   "source": [
    "sparkify_event_log.filter(sparkify_event_log['userId'] == \"\").select(sparkify_event_log['page']).distinct().show()"
   ]
  },
  {
   "cell_type": "markdown",
   "id": "37c24750",
   "metadata": {},
   "source": [
    "There are many rows without a userId. Looking at the events these relate to, they relate to Sparkify information pages such as Home, About and Help. It makes sense that these pages would be accessed by logged out or guest users so we can drop them from this dataset as they won't be useful for predicting churn."
   ]
  },
  {
   "cell_type": "code",
   "execution_count": 8,
   "id": "59b73d24",
   "metadata": {},
   "outputs": [
    {
     "data": {
      "text/plain": [
       "Row(artist='Martha Tilston', auth='Logged In', firstName='Colin', gender='M', itemInSession=50, lastName='Freeman', length=277.89016, level='paid', location='Bakersfield, CA', method='PUT', page='NextSong', registration=1538173362000, sessionId=29, song='Rockpools', status=200, ts=1538352117000, userAgent='Mozilla/5.0 (Windows NT 6.1; WOW64; rv:31.0) Gecko/20100101 Firefox/31.0', userId='30')"
      ]
     },
     "execution_count": 8,
     "metadata": {},
     "output_type": "execute_result"
    }
   ],
   "source": [
    "user_event_log = sparkify_event_log.filter(sparkify_event_log['userId'] != \"\")\n",
    "user_event_log.head()"
   ]
  },
  {
   "cell_type": "markdown",
   "id": "63ca879c",
   "metadata": {},
   "source": [
    "## 3. Exploratory Data Analysis"
   ]
  },
  {
   "cell_type": "code",
   "execution_count": 9,
   "id": "e605a642",
   "metadata": {},
   "outputs": [
    {
     "data": {
      "text/plain": [
       "225"
      ]
     },
     "execution_count": 9,
     "metadata": {},
     "output_type": "execute_result"
    }
   ],
   "source": [
    "#Count number of unique users\n",
    "user_event_log.select(\"userId\").dropDuplicates().count()"
   ]
  },
  {
   "cell_type": "code",
   "execution_count": 10,
   "id": "3ae96adb",
   "metadata": {
    "scrolled": false
   },
   "outputs": [
    {
     "name": "stdout",
     "output_type": "stream",
     "text": [
      "+--------------------+------+\n",
      "|                page| count|\n",
      "+--------------------+------+\n",
      "|            NextSong|228108|\n",
      "|           Thumbs Up| 12551|\n",
      "|                Home| 10082|\n",
      "|     Add to Playlist|  6526|\n",
      "|          Add Friend|  4277|\n",
      "|         Roll Advert|  3933|\n",
      "|              Logout|  3226|\n",
      "|         Thumbs Down|  2546|\n",
      "|           Downgrade|  2055|\n",
      "|            Settings|  1514|\n",
      "|                Help|  1454|\n",
      "|             Upgrade|   499|\n",
      "|               About|   495|\n",
      "|       Save Settings|   310|\n",
      "|               Error|   252|\n",
      "|      Submit Upgrade|   159|\n",
      "|    Submit Downgrade|    63|\n",
      "|              Cancel|    52|\n",
      "|Cancellation Conf...|    52|\n",
      "+--------------------+------+\n",
      "\n"
     ]
    }
   ],
   "source": [
    "#Investigate page column\n",
    "page_counts = user_event_log.groupby(user_event_log.page).count().orderBy('count', ascending=False).show()"
   ]
  },
  {
   "cell_type": "markdown",
   "id": "d3a8f69a",
   "metadata": {},
   "source": [
    "From this we can see that the majority of events correspond to playing songs, which makes sense for a music streaming service. Some of the other common events such as Thumbs Up, Add to Playlist or Roll Advert could be used to create predictive features.\n",
    "The other key event here is the Cancel Confirmation page, which will be used to define user churn."
   ]
  },
  {
   "cell_type": "code",
   "execution_count": 11,
   "id": "0cfdcb68",
   "metadata": {},
   "outputs": [
    {
     "data": {
      "text/plain": [
       "{'artist': 50046,\n",
       " 'auth': 0,\n",
       " 'firstName': 0,\n",
       " 'gender': 0,\n",
       " 'itemInSession': 0,\n",
       " 'lastName': 0,\n",
       " 'length': 50046,\n",
       " 'level': 0,\n",
       " 'location': 0,\n",
       " 'method': 0,\n",
       " 'page': 0,\n",
       " 'registration': 0,\n",
       " 'sessionId': 0,\n",
       " 'song': 50046,\n",
       " 'status': 0,\n",
       " 'ts': 0,\n",
       " 'userAgent': 0,\n",
       " 'userId': 0}"
      ]
     },
     "execution_count": 11,
     "metadata": {},
     "output_type": "execute_result"
    }
   ],
   "source": [
    "# Check for any other columns with null values\n",
    "null_counts = {col:user_event_log.filter(user_event_log[col].isNull()).count() for col in user_event_log.columns}\n",
    "null_counts \n",
    "#The only remaining null values are for artist, song, and length \n",
    "#these correspond to rows where the event is not listening to song"
   ]
  },
  {
   "cell_type": "markdown",
   "id": "39feb830",
   "metadata": {},
   "source": [
    "### Create user churn flag"
   ]
  },
  {
   "cell_type": "code",
   "execution_count": 12,
   "id": "62a483eb",
   "metadata": {},
   "outputs": [
    {
     "data": {
      "text/plain": [
       "Row(artist='Martha Tilston', auth='Logged In', firstName='Colin', gender='M', itemInSession=50, lastName='Freeman', length=277.89016, level='paid', location='Bakersfield, CA', method='PUT', page='NextSong', registration=1538173362000, sessionId=29, song='Rockpools', status=200, ts=1538352117000, userAgent='Mozilla/5.0 (Windows NT 6.1; WOW64; rv:31.0) Gecko/20100101 Firefox/31.0', userId='30', ChurnFlag=0)"
      ]
     },
     "execution_count": 12,
     "metadata": {},
     "output_type": "execute_result"
    }
   ],
   "source": [
    "#Create CHURN flag using user-defined function\n",
    "create_churn_flag = udf(lambda x: 1 if x == \"Cancellation Confirmation\" else 0, IntegerType())\n",
    "user_event_log = user_event_log.withColumn(\"ChurnFlag\", create_churn_flag(\"page\"))\n",
    "\n",
    "user_event_log.head()"
   ]
  },
  {
   "cell_type": "code",
   "execution_count": 13,
   "id": "c8ba1492",
   "metadata": {},
   "outputs": [
    {
     "name": "stdout",
     "output_type": "stream",
     "text": [
      "+---------+------+\n",
      "|ChurnFlag| count|\n",
      "+---------+------+\n",
      "|        1|    52|\n",
      "|        0|278102|\n",
      "+---------+------+\n",
      "\n"
     ]
    }
   ],
   "source": [
    "user_event_log.groupBy('ChurnFlag').count().show()"
   ]
  },
  {
   "cell_type": "markdown",
   "id": "fdee954b",
   "metadata": {},
   "source": [
    "There were only 52 cancellation events out of the 278k rows - fortunately for Sparkify it looks like user churn is a very rare event. Since we're interested in predicting which users will churn, we next need to flag all rows belonging to a churn user. We can do this by using a Window function to find the maximum value of ChurnFlag for each user and attach this to all their other log entries."
   ]
  },
  {
   "cell_type": "code",
   "execution_count": 14,
   "id": "e8ff3c1d",
   "metadata": {},
   "outputs": [],
   "source": [
    "#create a window based on userId and sorted by event timestamp\n",
    "windowval = Window.partitionBy(\"userId\").orderBy(desc(\"ts\")).rangeBetween(Window.unboundedPreceding, 0)"
   ]
  },
  {
   "cell_type": "code",
   "execution_count": 15,
   "id": "420d6673",
   "metadata": {},
   "outputs": [
    {
     "data": {
      "text/plain": [
       "Row(artist=None, auth='Logged In', firstName='Darianna', gender='F', itemInSession=34, lastName='Carpenter', length=None, level='free', location='Bridgeport-Stamford-Norwalk, CT', method='PUT', page='Logout', registration=1538016340000, sessionId=187, song=None, status=307, ts=1542823952000, userAgent='\"Mozilla/5.0 (iPhone; CPU iPhone OS 7_1_2 like Mac OS X) AppleWebKit/537.51.2 (KHTML, like Gecko) Version/7.0 Mobile/11D257 Safari/9537.53\"', userId='100010', ChurnFlag=0, ChurnUser=0)"
      ]
     },
     "execution_count": 15,
     "metadata": {},
     "output_type": "execute_result"
    }
   ],
   "source": [
    "user_event_log = user_event_log.withColumn(\"ChurnUser\", Fmax(\"ChurnFlag\").over(windowval))\n",
    "user_event_log.head()"
   ]
  },
  {
   "cell_type": "code",
   "execution_count": 16,
   "id": "1a8540b0",
   "metadata": {},
   "outputs": [
    {
     "name": "stdout",
     "output_type": "stream",
     "text": [
      "+---------+------+\n",
      "|ChurnUser| count|\n",
      "+---------+------+\n",
      "|        1| 44864|\n",
      "|        0|233290|\n",
      "+---------+------+\n",
      "\n",
      "+---------+-----+\n",
      "|ChurnUser|count|\n",
      "+---------+-----+\n",
      "|        1|   52|\n",
      "|        0|  173|\n",
      "+---------+-----+\n",
      "\n"
     ]
    }
   ],
   "source": [
    "user_event_log.groupBy('ChurnUser').count().show()\n",
    "user_event_log.select('userId','ChurnUser').distinct().groupBy('ChurnUser').count().show()"
   ]
  },
  {
   "cell_type": "markdown",
   "id": "0c10960f",
   "metadata": {},
   "source": [
    "From this we can see that nearly a quarter of users have churned, which would not be good for Sparkify's profits! We clearly need to find a way to identify these users before they churn and find strategies to prevent this. We can start by looking at the relationship between our Churn users and other users based on some of the other features in out event log."
   ]
  },
  {
   "cell_type": "code",
   "execution_count": 17,
   "id": "ae25a318",
   "metadata": {},
   "outputs": [],
   "source": [
    "users_df = user_event_log.select('userId','gender', 'level','ChurnFlag').distinct().toPandas()"
   ]
  },
  {
   "cell_type": "code",
   "execution_count": 18,
   "id": "08dd602d",
   "metadata": {},
   "outputs": [
    {
     "data": {
      "image/png": "[encoded data removed]",
      "text/plain": [
       "<Figure size 640x480 with 2 Axes>"
      ]
     },
     "metadata": {},
     "output_type": "display_data"
    }
   ],
   "source": [
    "fig, ax =plt.subplots(1,2)\n",
    "sns.countplot(x='gender', data=users_df, hue='ChurnFlag', ax=ax[0]);\n",
    "sns.countplot(x='level', data=users_df, hue='ChurnFlag', ax=ax[1]);"
   ]
  },
  {
   "cell_type": "code",
   "execution_count": null,
   "id": "ad559bbc",
   "metadata": {},
   "outputs": [],
   "source": []
  },
  {
   "cell_type": "markdown",
   "id": "53652541",
   "metadata": {},
   "source": [
    "## 4. Feature Engineering"
   ]
  },
  {
   "cell_type": "markdown",
   "id": "6af69afe",
   "metadata": {},
   "source": [
    "Spark machine learning models require the input features to be in numeric form, so we'll focus on creating numeric rather than categorical factors. There are some categorical factors in the input data that can be easily converted to a binary numeric representation, so we will also consider these factors."
   ]
  },
  {
   "cell_type": "code",
   "execution_count": 19,
   "id": "7fa2ffe0",
   "metadata": {},
   "outputs": [
    {
     "data": {
      "text/plain": [
       "Row(artist=None, auth='Logged In', firstName='Darianna', gender=1, itemInSession=34, lastName='Carpenter', length=None, level=0, location='Bridgeport-Stamford-Norwalk, CT', method='PUT', page='Logout', registration=1538016340000, sessionId=187, song=None, status=307, ts=1542823952000, userAgent='\"Mozilla/5.0 (iPhone; CPU iPhone OS 7_1_2 like Mac OS X) AppleWebKit/537.51.2 (KHTML, like Gecko) Version/7.0 Mobile/11D257 Safari/9537.53\"', userId='100010', ChurnFlag=0, ChurnUser=0)"
      ]
     },
     "execution_count": 19,
     "metadata": {},
     "output_type": "execute_result"
    }
   ],
   "source": [
    "#Convert gender and level to binary categorical features\n",
    "user_event_log = user_event_log.withColumn(\"gender\", when(user_event_log.gender == \"M\",0) \\\n",
    "      .when(user_event_log.gender == \"F\",1))\n",
    "\n",
    "user_event_log = user_event_log.withColumn(\"level\", when(user_event_log.level == \"free\",0) \\\n",
    "      .when(user_event_log.level == \"paid\",1))\n",
    "\n",
    "user_event_log.head()"
   ]
  },
  {
   "cell_type": "code",
   "execution_count": 30,
   "id": "1fe67ffb",
   "metadata": {},
   "outputs": [
    {
     "name": "stdout",
     "output_type": "stream",
     "text": [
      "+--------------------+--------+-----------+-------------+---------+-----------+------+--------+-------+----------+-------------+---------------+-----------+-------------+--------+----------+---------+------------+\n",
      "|                page|p_friend|p_thumbs_up|p_thumbs_down|p_upgrade|p_downgrade|p_song|p_advert|p_error|p_playlist|p_p_thumbs_up|p_p_thumbs_down|p_p_upgrade|p_p_downgrade|p_p_song|p_p_advert|p_p_error|p_p_playlist|\n",
      "+--------------------+--------+-----------+-------------+---------+-----------+------+--------+-------+----------+-------------+---------------+-----------+-------------+--------+----------+---------+------------+\n",
      "|     Add to Playlist|       0|          0|            0|        0|          0|     0|       0|      0|         1|            0|              0|          0|            0|       0|         0|        0|           1|\n",
      "|                Home|       0|          0|            0|        0|          0|     0|       0|      0|         0|            0|              0|          0|            0|       0|         0|        0|           0|\n",
      "|       Save Settings|       0|          0|            0|        0|          0|     0|       0|      0|         0|            0|              0|          0|            0|       0|         0|        0|           0|\n",
      "|            NextSong|       0|          0|            0|        0|          0|     1|       0|      0|         0|            0|              0|          0|            0|       1|         0|        0|           0|\n",
      "|               About|       0|          0|            0|        0|          0|     0|       0|      0|         0|            0|              0|          0|            0|       0|         0|        0|           0|\n",
      "|         Thumbs Down|       0|          0|            1|        0|          0|     0|       0|      0|         0|            0|              1|          0|            0|       0|         0|        0|           0|\n",
      "|              Cancel|       0|          0|            0|        0|          0|     0|       0|      0|         0|            0|              0|          0|            0|       0|         0|        0|           0|\n",
      "|               Error|       0|          0|            0|        0|          0|     0|       0|      1|         0|            0|              0|          0|            0|       0|         0|        1|           0|\n",
      "|Cancellation Conf...|       0|          0|            0|        0|          0|     0|       0|      0|         0|            0|              0|          0|            0|       0|         0|        0|           0|\n",
      "|      Submit Upgrade|       0|          0|            0|        1|          0|     0|       0|      0|         0|            0|              0|          1|            0|       0|         0|        0|           0|\n",
      "|    Submit Downgrade|       0|          0|            0|        0|          1|     0|       0|      0|         0|            0|              0|          0|            1|       0|         0|        0|           0|\n",
      "|          Add Friend|       1|          0|            0|        0|          0|     0|       0|      0|         0|            0|              0|          0|            0|       0|         0|        0|           0|\n",
      "|             Upgrade|       0|          0|            0|        0|          0|     0|       0|      0|         0|            0|              0|          0|            0|       0|         0|        0|           0|\n",
      "|           Thumbs Up|       0|          1|            0|        0|          0|     0|       0|      0|         0|            1|              0|          0|            0|       0|         0|        0|           0|\n",
      "|              Logout|       0|          0|            0|        0|          0|     0|       0|      0|         0|            0|              0|          0|            0|       0|         0|        0|           0|\n",
      "|                Help|       0|          0|            0|        0|          0|     0|       0|      0|         0|            0|              0|          0|            0|       0|         0|        0|           0|\n",
      "|         Roll Advert|       0|          0|            0|        0|          0|     0|       1|      0|         0|            0|              0|          0|            0|       0|         1|        0|           0|\n",
      "|            Settings|       0|          0|            0|        0|          0|     0|       0|      0|         0|            0|              0|          0|            0|       0|         0|        0|           0|\n",
      "|           Downgrade|       0|          0|            0|        0|          0|     0|       0|      0|         0|            0|              0|          0|            0|       0|         0|        0|           0|\n",
      "+--------------------+--------+-----------+-------------+---------+-----------+------+--------+-------+----------+-------------+---------------+-----------+-------------+--------+----------+---------+------------+\n",
      "\n"
     ]
    }
   ],
   "source": [
    "#create page-view counts per user, using the same approach as we used to create our churn flag\n",
    "#ignore uninteresting pages such as About or Home\n",
    "page_dict = {'friend': 'Add Friend', 'thumbs_up': 'Thumbs Up', 'thumbs_down': 'Thumbs Down',\n",
    "             'upgrade': 'Submit Upgrade', 'downgrade': 'Submit Downgrade', 'song': 'NextSong', \n",
    "             'advert': 'Roll Advert', 'error': 'Error', 'playlist': 'Add to Playlist'\n",
    "}\n",
    "for key in page_dict.keys():\n",
    "    udf_page = udf(lambda x: 1 if x == page_dict[key] else 0, IntegerType())\n",
    "    user_event_log = user_event_log.withColumn('p_' + key, udf_page(\"page\"))\n",
    "\n",
    "#Check each page type has been set correctly\n",
    "user_event_log.select('page',user_event_log.colRegex(\"`(p_)+?.+`\")).distinct().show()\n"
   ]
  },
  {
   "cell_type": "code",
   "execution_count": 37,
   "id": "ec68039d",
   "metadata": {},
   "outputs": [
    {
     "name": "stdout",
     "output_type": "stream",
     "text": [
      "+------+----------+-------------+---------------+-----------+-------------+--------+----------+---------+------------+\n",
      "|userId|sum_friend|sum_thumbs_up|sum_thumbs_down|sum_upgrade|sum_downgrade|sum_song|sum_advert|sum_error|sum_playlist|\n",
      "+------+----------+-------------+---------------+-----------+-------------+--------+----------+---------+------------+\n",
      "|100010|         4|           17|              5|          0|            0|     275|        52|        0|           7|\n",
      "|100010|         4|           17|              5|          0|            0|     275|        52|        0|           7|\n",
      "|100010|         4|           17|              5|          0|            0|     275|        52|        0|           7|\n",
      "|100010|         4|           17|              5|          0|            0|     275|        52|        0|           7|\n",
      "|100010|         4|           17|              5|          0|            0|     275|        52|        0|           7|\n",
      "+------+----------+-------------+---------------+-----------+-------------+--------+----------+---------+------------+\n",
      "only showing top 5 rows\n",
      "\n",
      "+------+----------+-------------+---------------+-----------+-------------+--------+----------+---------+------------+\n",
      "|userId|sum_friend|sum_thumbs_up|sum_thumbs_down|sum_upgrade|sum_downgrade|sum_song|sum_advert|sum_error|sum_playlist|\n",
      "+------+----------+-------------+---------------+-----------+-------------+--------+----------+---------+------------+\n",
      "|100010|         4|           17|              5|          0|            0|     275|        52|        0|           7|\n",
      "|200002|         4|           21|              6|          1|            0|     387|         7|        0|           8|\n",
      "|   125|         0|            0|              0|          0|            0|       8|         1|        0|           0|\n",
      "|   124|        74|          171|             41|          0|            0|    4079|         4|        6|         118|\n",
      "|    51|        28|          100|             21|          0|            0|    2111|         0|        1|          52|\n",
      "+------+----------+-------------+---------------+-----------+-------------+--------+----------+---------+------------+\n",
      "only showing top 5 rows\n",
      "\n"
     ]
    }
   ],
   "source": [
    "#Create count variables for each of these page views\n",
    "#partition the dataframe based on the userId column\n",
    "user_window = Window.partitionBy(\"userId\")\n",
    "#return the sum of values for each page type\n",
    "for key in page_dict:\n",
    "    user_event_log = user_event_log.withColumn('sum_' + key, Fsum(col('p_' + key)).over(user_window))\n",
    "\n",
    "#Check first few rows look sensible\n",
    "user_event_log.select('userId',user_event_log.colRegex(\"`(sum_)+?.+`\")).show(5)\n",
    "\n",
    "#Check first few rows for unique users\n",
    "user_event_log.select('userId',user_event_log.colRegex(\"`(sum_)+?.+`\")).distinct().show(5)"
   ]
  },
  {
   "cell_type": "code",
   "execution_count": null,
   "id": "a0c65b59",
   "metadata": {},
   "outputs": [],
   "source": []
  },
  {
   "cell_type": "markdown",
   "id": "79d284c4",
   "metadata": {},
   "source": [
    "## 5. Modelling"
   ]
  },
  {
   "cell_type": "code",
   "execution_count": null,
   "id": "f4ff02b2",
   "metadata": {},
   "outputs": [],
   "source": []
  },
  {
   "cell_type": "code",
   "execution_count": null,
   "id": "ac850963",
   "metadata": {},
   "outputs": [],
   "source": []
  }
 ],
 "metadata": {
  "kernelspec": {
   "display_name": "Python 3 (ipykernel)",
   "language": "python",
   "name": "python3"
  },
  "language_info": {
   "codemirror_mode": {
    "name": "ipython",
    "version": 3
   },
   "file_extension": ".py",
   "mimetype": "text/x-python",
   "name": "python",
   "nbconvert_exporter": "python",
   "pygments_lexer": "ipython3",
   "version": "3.8.13"
  }
 },
 "nbformat": 4,
 "nbformat_minor": 5
}
