{
 "cells": [
  {
   "cell_type": "markdown",
   "id": "38968e15",
   "metadata": {},
   "source": [
    "# Sparkify - Predicting User Churn\n",
    "\n",
    "Sparkify is a fictional music streaming service similar to Spotify, with a free-tier supported by advertisements and a monthly subscription service. Predicting user churn enables them to target users who are considering leaving Sparkify and offering  special discounts or services to retain these users and maximize profit.\n",
    "\n",
    "This code will use data about user interactions to create features that could be predictive of which users will churn, and then train and evaluate models for this prediction task."
   ]
  },
  {
   "cell_type": "markdown",
   "id": "4c93b9bb",
   "metadata": {},
   "source": [
    "## 1. PySpark Setup"
   ]
  },
  {
   "cell_type": "code",
   "execution_count": 1,
   "id": "9f6dde91",
   "metadata": {},
   "outputs": [],
   "source": [
    "from pyspark.sql import SparkSession, Window\n",
    "from pyspark.sql.functions import udf, desc, when, col, dense_rank\n",
    "from pyspark.sql.types import IntegerType\n",
    "from pyspark.sql.functions import max as Fmax, min as Fmin, sum as Fsum, mean as Fmean, first as Ffirst\n",
    "\n",
    "import pandas as pd\n",
    "import seaborn as sns\n",
    "import matplotlib.pyplot as plt\n",
    "\n",
    "import os\n",
    "os.environ['PYSPARK_PYTHON'] = 'python'"
   ]
  },
  {
   "cell_type": "code",
   "execution_count": 2,
   "id": "caa0ad2e",
   "metadata": {},
   "outputs": [],
   "source": [
    "spark = SparkSession \\\n",
    "    .builder \\\n",
    "    .appName(\"Sparkify Churn Prediction\") \\\n",
    "    .getOrCreate()"
   ]
  },
  {
   "cell_type": "markdown",
   "id": "22c46d9f",
   "metadata": {},
   "source": [
    "## 2. Load and Clean Dataset"
   ]
  },
  {
   "cell_type": "code",
   "execution_count": 3,
   "id": "57c33ec9",
   "metadata": {},
   "outputs": [
    {
     "data": {
      "text/plain": [
       "DataFrame[artist: string, auth: string, firstName: string, gender: string, itemInSession: bigint, lastName: string, length: double, level: string, location: string, method: string, page: string, registration: bigint, sessionId: bigint, song: string, status: bigint, ts: bigint, userAgent: string, userId: string]"
      ]
     },
     "execution_count": 3,
     "metadata": {},
     "output_type": "execute_result"
    }
   ],
   "source": [
    "#Read event data from mini file\n",
    "path = \"data/mini_sparkify_event_data.json\"\n",
    "sparkify_event_log = spark.read.json(path)\n",
    "\n",
    "sparkify_event_log.persist()"
   ]
  },
  {
   "cell_type": "code",
   "execution_count": 4,
   "id": "dca98dc3",
   "metadata": {},
   "outputs": [
    {
     "data": {
      "text/plain": [
       "Row(artist='Martha Tilston', auth='Logged In', firstName='Colin', gender='M', itemInSession=50, lastName='Freeman', length=277.89016, level='paid', location='Bakersfield, CA', method='PUT', page='NextSong', registration=1538173362000, sessionId=29, song='Rockpools', status=200, ts=1538352117000, userAgent='Mozilla/5.0 (Windows NT 6.1; WOW64; rv:31.0) Gecko/20100101 Firefox/31.0', userId='30')"
      ]
     },
     "execution_count": 4,
     "metadata": {},
     "output_type": "execute_result"
    }
   ],
   "source": [
    "#View first row of the data\n",
    "sparkify_event_log.head()"
   ]
  },
  {
   "cell_type": "code",
   "execution_count": 5,
   "id": "e142d0e2",
   "metadata": {},
   "outputs": [
    {
     "data": {
      "text/plain": [
       "286500"
      ]
     },
     "execution_count": 5,
     "metadata": {},
     "output_type": "execute_result"
    }
   ],
   "source": [
    "#Count number of rows\n",
    "sparkify_event_log.count()"
   ]
  },
  {
   "cell_type": "code",
   "execution_count": 6,
   "id": "61716dc8",
   "metadata": {},
   "outputs": [
    {
     "data": {
      "text/plain": [
       "0"
      ]
     },
     "execution_count": 6,
     "metadata": {},
     "output_type": "execute_result"
    }
   ],
   "source": [
    "#Check for any rows with a missing sessionId - these would likely be a data error within the Sparkify system\n",
    "sparkify_event_log.filter(sparkify_event_log['sessionId'] == '').count()\n",
    "#There are no rows which are missing a sessionId so no cleaning need to address these"
   ]
  },
  {
   "cell_type": "code",
   "execution_count": 7,
   "id": "231fd70c",
   "metadata": {},
   "outputs": [
    {
     "data": {
      "text/plain": [
       "8346"
      ]
     },
     "execution_count": 7,
     "metadata": {},
     "output_type": "execute_result"
    }
   ],
   "source": [
    "#Check for any rows with a missing userId - these won't be useful to predict user churn\n",
    "sparkify_event_log.filter(sparkify_event_log['userId'] == \"\").count()"
   ]
  },
  {
   "cell_type": "code",
   "execution_count": 8,
   "id": "d07729a7",
   "metadata": {},
   "outputs": [
    {
     "name": "stdout",
     "output_type": "stream",
     "text": [
      "+-------------------+\n",
      "|               page|\n",
      "+-------------------+\n",
      "|               Home|\n",
      "|              About|\n",
      "|Submit Registration|\n",
      "|              Login|\n",
      "|           Register|\n",
      "|               Help|\n",
      "|              Error|\n",
      "+-------------------+\n",
      "\n"
     ]
    }
   ],
   "source": [
    "#Investigate which pages were visited by users without a UserId\n",
    "sparkify_event_log.filter(sparkify_event_log['userId'] == \"\").select(sparkify_event_log['page']).distinct().show()"
   ]
  },
  {
   "cell_type": "markdown",
   "id": "37c24750",
   "metadata": {},
   "source": [
    "There are many rows without a userId. Looking at the events these relate to, they relate to Sparkify information pages such as Home, About and Help. It makes sense that these pages would be accessed by logged out or guest users so we can drop them from this dataset as they won't be useful for predicting churn."
   ]
  },
  {
   "cell_type": "code",
   "execution_count": 9,
   "id": "59b73d24",
   "metadata": {},
   "outputs": [
    {
     "data": {
      "text/plain": [
       "Row(artist='Martha Tilston', auth='Logged In', firstName='Colin', gender='M', itemInSession=50, lastName='Freeman', length=277.89016, level='paid', location='Bakersfield, CA', method='PUT', page='NextSong', registration=1538173362000, sessionId=29, song='Rockpools', status=200, ts=1538352117000, userAgent='Mozilla/5.0 (Windows NT 6.1; WOW64; rv:31.0) Gecko/20100101 Firefox/31.0', userId='30')"
      ]
     },
     "execution_count": 9,
     "metadata": {},
     "output_type": "execute_result"
    }
   ],
   "source": [
    "user_event_log = sparkify_event_log.filter(sparkify_event_log['userId'] != \"\")\n",
    "user_event_log.head()"
   ]
  },
  {
   "cell_type": "code",
   "execution_count": 10,
   "id": "7e5ad902",
   "metadata": {},
   "outputs": [
    {
     "data": {
      "text/plain": [
       "{'artist': 50046,\n",
       " 'auth': 0,\n",
       " 'firstName': 0,\n",
       " 'gender': 0,\n",
       " 'itemInSession': 0,\n",
       " 'lastName': 0,\n",
       " 'length': 50046,\n",
       " 'level': 0,\n",
       " 'location': 0,\n",
       " 'method': 0,\n",
       " 'page': 0,\n",
       " 'registration': 0,\n",
       " 'sessionId': 0,\n",
       " 'song': 50046,\n",
       " 'status': 0,\n",
       " 'ts': 0,\n",
       " 'userAgent': 0,\n",
       " 'userId': 0}"
      ]
     },
     "execution_count": 10,
     "metadata": {},
     "output_type": "execute_result"
    }
   ],
   "source": [
    "# Check for any other columns with null values\n",
    "null_counts = {col:user_event_log.filter(user_event_log[col].isNull()).count() for col in user_event_log.columns}\n",
    "null_counts \n",
    "#The only remaining null values are for artist, song, and length \n",
    "#these correspond to rows where the event is not listening to song, which seems sensible"
   ]
  },
  {
   "cell_type": "code",
   "execution_count": 11,
   "id": "66e23a93",
   "metadata": {},
   "outputs": [
    {
     "data": {
      "text/plain": [
       "[Row(auth='Logged In', gender='M', itemInSession=50, length=277.89016, level='paid', location='Bakersfield, CA', method='PUT', page='NextSong', registration=1538173362000, sessionId=29, status=200, ts=1538352117000, userId='30'),\n",
       " Row(auth='Logged In', gender='M', itemInSession=79, length=236.09424, level='free', location='Boston-Cambridge-Newton, MA-NH', method='PUT', page='NextSong', registration=1538331630000, sessionId=8, status=200, ts=1538352180000, userId='9'),\n",
       " Row(auth='Logged In', gender='M', itemInSession=51, length=282.8273, level='paid', location='Bakersfield, CA', method='PUT', page='NextSong', registration=1538173362000, sessionId=29, status=200, ts=1538352394000, userId='30'),\n",
       " Row(auth='Logged In', gender='M', itemInSession=80, length=262.71302, level='free', location='Boston-Cambridge-Newton, MA-NH', method='PUT', page='NextSong', registration=1538331630000, sessionId=8, status=200, ts=1538352416000, userId='9'),\n",
       " Row(auth='Logged In', gender='M', itemInSession=52, length=223.60771, level='paid', location='Bakersfield, CA', method='PUT', page='NextSong', registration=1538173362000, sessionId=29, status=200, ts=1538352676000, userId='30')]"
      ]
     },
     "execution_count": 11,
     "metadata": {},
     "output_type": "execute_result"
    }
   ],
   "source": [
    "#Drop columns that won't be useful to reduce memory requirements\n",
    "user_event_log = user_event_log.drop('firstName','lastName','userAgent','artist','song')\n",
    "user_event_log.head(5)"
   ]
  },
  {
   "cell_type": "code",
   "execution_count": 12,
   "id": "0e75ab57",
   "metadata": {},
   "outputs": [
    {
     "name": "stdout",
     "output_type": "stream",
     "text": [
      "278154\n",
      "278154\n"
     ]
    }
   ],
   "source": [
    "#Check for duplicate rows\n",
    "print(user_event_log.count())\n",
    "print(user_event_log.distinct().count())"
   ]
  },
  {
   "cell_type": "markdown",
   "id": "b0b0c590",
   "metadata": {},
   "source": [
    "The number of distinct rows in the event log equals the total number of rows, so there are no duplicate entries to deal with"
   ]
  },
  {
   "cell_type": "markdown",
   "id": "63ca879c",
   "metadata": {},
   "source": [
    "## 3. Exploratory Data Analysis"
   ]
  },
  {
   "cell_type": "code",
   "execution_count": 13,
   "id": "e605a642",
   "metadata": {},
   "outputs": [
    {
     "name": "stdout",
     "output_type": "stream",
     "text": [
      "Unique users: 225\n"
     ]
    }
   ],
   "source": [
    "#Count number of unique users\n",
    "print('Unique users:', user_event_log.select(\"userId\").dropDuplicates().count())"
   ]
  },
  {
   "cell_type": "code",
   "execution_count": 14,
   "id": "3ae96adb",
   "metadata": {
    "scrolled": false
   },
   "outputs": [
    {
     "name": "stdout",
     "output_type": "stream",
     "text": [
      "+--------------------+------+\n",
      "|                page| count|\n",
      "+--------------------+------+\n",
      "|            NextSong|228108|\n",
      "|           Thumbs Up| 12551|\n",
      "|                Home| 10082|\n",
      "|     Add to Playlist|  6526|\n",
      "|          Add Friend|  4277|\n",
      "|         Roll Advert|  3933|\n",
      "|              Logout|  3226|\n",
      "|         Thumbs Down|  2546|\n",
      "|           Downgrade|  2055|\n",
      "|            Settings|  1514|\n",
      "|                Help|  1454|\n",
      "|             Upgrade|   499|\n",
      "|               About|   495|\n",
      "|       Save Settings|   310|\n",
      "|               Error|   252|\n",
      "|      Submit Upgrade|   159|\n",
      "|    Submit Downgrade|    63|\n",
      "|              Cancel|    52|\n",
      "|Cancellation Conf...|    52|\n",
      "+--------------------+------+\n",
      "\n"
     ]
    }
   ],
   "source": [
    "#Investigate page column\n",
    "page_counts = user_event_log.groupby(user_event_log.page).count().orderBy('count', ascending=False)\n",
    "page_counts.show()"
   ]
  },
  {
   "cell_type": "code",
   "execution_count": 15,
   "id": "c44298a4",
   "metadata": {},
   "outputs": [
    {
     "data": {
      "image/png": "[encoded data removed]",
      "text/plain": [
       "<Figure size 640x480 with 1 Axes>"
      ]
     },
     "metadata": {},
     "output_type": "display_data"
    }
   ],
   "source": [
    "page_plot = sns.barplot(x='page', y='count', data=page_counts.toPandas(), color='turquoise')\n",
    "page_plot.set_xlabel(None)\n",
    "page_plot.set_ylabel(\"Page Count\",fontsize=10)\n",
    "plt.tick_params(labelsize=10)\n",
    "plt.xticks(rotation=50, ha='right');"
   ]
  },
  {
   "cell_type": "markdown",
   "id": "d3a8f69a",
   "metadata": {},
   "source": [
    "From this we can see that the majority of events correspond to playing songs, which makes sense for a music streaming service. Some of the other common events such as Thumbs Up, Add to Playlist or Roll Advert could be used to create predictive features.\n",
    "The other key event here is the Cancel Confirmation page, which will be used to define user churn."
   ]
  },
  {
   "cell_type": "code",
   "execution_count": 16,
   "id": "27b50f4a",
   "metadata": {},
   "outputs": [
    {
     "name": "stdout",
     "output_type": "stream",
     "text": [
      "+---------+------+\n",
      "|     auth| count|\n",
      "+---------+------+\n",
      "|Cancelled|    52|\n",
      "|Logged In|278102|\n",
      "+---------+------+\n",
      "\n",
      "+------+------+\n",
      "|gender| count|\n",
      "+------+------+\n",
      "|     F|154578|\n",
      "|     M|123576|\n",
      "+------+------+\n",
      "\n",
      "+-----+------+\n",
      "|level| count|\n",
      "+-----+------+\n",
      "| free| 55721|\n",
      "| paid|222433|\n",
      "+-----+------+\n",
      "\n",
      "+------+------+\n",
      "|method| count|\n",
      "+------+------+\n",
      "|   PUT|257818|\n",
      "|   GET| 20336|\n",
      "+------+------+\n",
      "\n",
      "+------+------+\n",
      "|status| count|\n",
      "+------+------+\n",
      "|   307| 23184|\n",
      "|   404|   252|\n",
      "|   200|254718|\n",
      "+------+------+\n",
      "\n"
     ]
    }
   ],
   "source": [
    "#Look at the range of values in other categorical columns\n",
    "cat_cols = ['auth', 'gender', 'level', 'method', 'status']\n",
    "for col in cat_cols:\n",
    "    user_event_log.groupBy(col).count().show()"
   ]
  },
  {
   "cell_type": "markdown",
   "id": "39feb830",
   "metadata": {},
   "source": [
    "### Create user churn flag"
   ]
  },
  {
   "cell_type": "code",
   "execution_count": 17,
   "id": "62a483eb",
   "metadata": {},
   "outputs": [
    {
     "data": {
      "text/plain": [
       "Row(auth='Logged In', gender='M', itemInSession=50, length=277.89016, level='paid', location='Bakersfield, CA', method='PUT', page='NextSong', registration=1538173362000, sessionId=29, status=200, ts=1538352117000, userId='30', Churn_Event=0)"
      ]
     },
     "execution_count": 17,
     "metadata": {},
     "output_type": "execute_result"
    }
   ],
   "source": [
    "#Create CHURN event flag using user-defined function\n",
    "create_churn_event_flag = udf(lambda x: 1 if x == \"Cancellation Confirmation\" else 0, IntegerType())\n",
    "user_event_log = user_event_log.withColumn(\"Churn_Event\", create_churn_event_flag(\"page\"))\n",
    "\n",
    "user_event_log.head()"
   ]
  },
  {
   "cell_type": "code",
   "execution_count": 18,
   "id": "c8ba1492",
   "metadata": {},
   "outputs": [
    {
     "name": "stdout",
     "output_type": "stream",
     "text": [
      "+-----------+------+\n",
      "|Churn_Event| count|\n",
      "+-----------+------+\n",
      "|          1|    52|\n",
      "|          0|278102|\n",
      "+-----------+------+\n",
      "\n"
     ]
    }
   ],
   "source": [
    "user_event_log.groupBy('Churn_Event').count().show()"
   ]
  },
  {
   "cell_type": "markdown",
   "id": "fdee954b",
   "metadata": {},
   "source": [
    "There were only 52 cancellation events out of the 278k rows - fortunately for Sparkify it looks like cancellation is a pretty rare event. Since we're interested in predicting which users will churn, we next need to flag all rows belonging to a churn user. We can do this by using a Window function to find the maximum value of the Churn_Event flag for each user and attach this to all their other log entries."
   ]
  },
  {
   "cell_type": "code",
   "execution_count": 19,
   "id": "e8ff3c1d",
   "metadata": {},
   "outputs": [],
   "source": [
    "#create a window based on userId and sorted by event timestamp\n",
    "user_window = Window.partitionBy(\"userId\").orderBy(desc(\"ts\")).rangeBetween(Window.unboundedPreceding, Window.unboundedFollowing)"
   ]
  },
  {
   "cell_type": "code",
   "execution_count": 20,
   "id": "420d6673",
   "metadata": {},
   "outputs": [],
   "source": [
    "user_event_log = user_event_log.withColumn(\"Churn_User\", Fmax(\"Churn_Event\").over(user_window))"
   ]
  },
  {
   "cell_type": "code",
   "execution_count": 21,
   "id": "858b6377",
   "metadata": {},
   "outputs": [
    {
     "data": {
      "text/plain": [
       "[Row(auth='Cancelled', gender='M', itemInSession=104, length=None, level='paid', location='Kansas City, MO-KS', method='GET', page='Cancellation Confirmation', registration=1535623466000, sessionId=514, status=200, ts=1538943990000, userId='18', Churn_Event=1, Churn_User=1),\n",
       " Row(auth='Logged In', gender='M', itemInSession=103, length=None, level='paid', location='Kansas City, MO-KS', method='PUT', page='Cancel', registration=1535623466000, sessionId=514, status=307, ts=1538943740000, userId='18', Churn_Event=0, Churn_User=1),\n",
       " Row(auth='Logged In', gender='M', itemInSession=102, length=None, level='paid', location='Kansas City, MO-KS', method='GET', page='Downgrade', registration=1535623466000, sessionId=514, status=200, ts=1538943739000, userId='18', Churn_Event=0, Churn_User=1)]"
      ]
     },
     "execution_count": 21,
     "metadata": {},
     "output_type": "execute_result"
    }
   ],
   "source": [
    "#Check first few rows for a user known to have churned - now have Churn_User set for all of that user's rows\n",
    "user_event_log.filter(user_event_log.userId == '18').head(3)"
   ]
  },
  {
   "cell_type": "code",
   "execution_count": 22,
   "id": "1a8540b0",
   "metadata": {},
   "outputs": [
    {
     "name": "stdout",
     "output_type": "stream",
     "text": [
      "+----------+------+\n",
      "|Churn_User| count|\n",
      "+----------+------+\n",
      "|         1| 44864|\n",
      "|         0|233290|\n",
      "+----------+------+\n",
      "\n",
      "+----------+-----+\n",
      "|Churn_User|count|\n",
      "+----------+-----+\n",
      "|         1|   52|\n",
      "|         0|  173|\n",
      "+----------+-----+\n",
      "\n"
     ]
    }
   ],
   "source": [
    "user_event_log.groupBy('Churn_User').count().show()\n",
    "user_event_log.select('userId','Churn_User').distinct().groupBy('Churn_User').count().show()"
   ]
  },
  {
   "cell_type": "markdown",
   "id": "0c10960f",
   "metadata": {},
   "source": [
    "From this we can see that nearly a quarter of the users in our dataset have churned, which would not be good for Sparkify's profits! We clearly need to find a way to identify these users before they churn and find strategies to prevent this. We can start by looking at the relationship between our Churn users and other users based on some of the other features in the event log."
   ]
  },
  {
   "cell_type": "code",
   "execution_count": 23,
   "id": "b9b3b314",
   "metadata": {},
   "outputs": [
    {
     "data": {
      "text/html": [
       "<div>\n",
       "<style scoped>\n",
       "    .dataframe tbody tr th:only-of-type {\n",
       "        vertical-align: middle;\n",
       "    }\n",
       "\n",
       "    .dataframe tbody tr th {\n",
       "        vertical-align: top;\n",
       "    }\n",
       "\n",
       "    .dataframe thead th {\n",
       "        text-align: right;\n",
       "    }\n",
       "</style>\n",
       "<table border=\"1\" class=\"dataframe\">\n",
       "  <thead>\n",
       "    <tr style=\"text-align: right;\">\n",
       "      <th></th>\n",
       "      <th>auth</th>\n",
       "      <th>gender</th>\n",
       "      <th>itemInSession</th>\n",
       "      <th>length</th>\n",
       "      <th>level</th>\n",
       "      <th>location</th>\n",
       "      <th>method</th>\n",
       "      <th>page</th>\n",
       "      <th>registration</th>\n",
       "      <th>sessionId</th>\n",
       "      <th>status</th>\n",
       "      <th>ts</th>\n",
       "      <th>userId</th>\n",
       "      <th>Churn_Event</th>\n",
       "      <th>Churn_User</th>\n",
       "      <th>Rank</th>\n",
       "    </tr>\n",
       "  </thead>\n",
       "  <tbody>\n",
       "    <tr>\n",
       "      <th>0</th>\n",
       "      <td>Logged In</td>\n",
       "      <td>F</td>\n",
       "      <td>34</td>\n",
       "      <td>NaN</td>\n",
       "      <td>free</td>\n",
       "      <td>Bridgeport-Stamford-Norwalk, CT</td>\n",
       "      <td>PUT</td>\n",
       "      <td>Logout</td>\n",
       "      <td>1538016340000</td>\n",
       "      <td>187</td>\n",
       "      <td>307</td>\n",
       "      <td>1542823952000</td>\n",
       "      <td>100010</td>\n",
       "      <td>0</td>\n",
       "      <td>0</td>\n",
       "      <td>1</td>\n",
       "    </tr>\n",
       "    <tr>\n",
       "      <th>1</th>\n",
       "      <td>Logged In</td>\n",
       "      <td>M</td>\n",
       "      <td>143</td>\n",
       "      <td>NaN</td>\n",
       "      <td>paid</td>\n",
       "      <td>Chicago-Naperville-Elgin, IL-IN-WI</td>\n",
       "      <td>PUT</td>\n",
       "      <td>Thumbs Up</td>\n",
       "      <td>1536269906000</td>\n",
       "      <td>205</td>\n",
       "      <td>307</td>\n",
       "      <td>1542324354000</td>\n",
       "      <td>200002</td>\n",
       "      <td>0</td>\n",
       "      <td>0</td>\n",
       "      <td>1</td>\n",
       "    </tr>\n",
       "    <tr>\n",
       "      <th>2</th>\n",
       "      <td>Cancelled</td>\n",
       "      <td>M</td>\n",
       "      <td>10</td>\n",
       "      <td>NaN</td>\n",
       "      <td>free</td>\n",
       "      <td>Corpus Christi, TX</td>\n",
       "      <td>GET</td>\n",
       "      <td>Cancellation Confirmation</td>\n",
       "      <td>1533157139000</td>\n",
       "      <td>174</td>\n",
       "      <td>200</td>\n",
       "      <td>1539318918000</td>\n",
       "      <td>125</td>\n",
       "      <td>1</td>\n",
       "      <td>1</td>\n",
       "      <td>1</td>\n",
       "    </tr>\n",
       "    <tr>\n",
       "      <th>3</th>\n",
       "      <td>Logged In</td>\n",
       "      <td>F</td>\n",
       "      <td>0</td>\n",
       "      <td>NaN</td>\n",
       "      <td>paid</td>\n",
       "      <td>Vineland-Bridgeton, NJ</td>\n",
       "      <td>GET</td>\n",
       "      <td>Home</td>\n",
       "      <td>1532224335000</td>\n",
       "      <td>2426</td>\n",
       "      <td>200</td>\n",
       "      <td>1543590766000</td>\n",
       "      <td>124</td>\n",
       "      <td>0</td>\n",
       "      <td>0</td>\n",
       "      <td>1</td>\n",
       "    </tr>\n",
       "    <tr>\n",
       "      <th>4</th>\n",
       "      <td>Cancelled</td>\n",
       "      <td>M</td>\n",
       "      <td>176</td>\n",
       "      <td>NaN</td>\n",
       "      <td>paid</td>\n",
       "      <td>Lexington-Fayette, KY</td>\n",
       "      <td>GET</td>\n",
       "      <td>Cancellation Confirmation</td>\n",
       "      <td>1538080987000</td>\n",
       "      <td>934</td>\n",
       "      <td>200</td>\n",
       "      <td>1539761972000</td>\n",
       "      <td>51</td>\n",
       "      <td>1</td>\n",
       "      <td>1</td>\n",
       "      <td>1</td>\n",
       "    </tr>\n",
       "  </tbody>\n",
       "</table>\n",
       "</div>"
      ],
      "text/plain": [
       "        auth gender  itemInSession  length level  \\\n",
       "0  Logged In      F             34     NaN  free   \n",
       "1  Logged In      M            143     NaN  paid   \n",
       "2  Cancelled      M             10     NaN  free   \n",
       "3  Logged In      F              0     NaN  paid   \n",
       "4  Cancelled      M            176     NaN  paid   \n",
       "\n",
       "                             location method                       page  \\\n",
       "0     Bridgeport-Stamford-Norwalk, CT    PUT                     Logout   \n",
       "1  Chicago-Naperville-Elgin, IL-IN-WI    PUT                  Thumbs Up   \n",
       "2                  Corpus Christi, TX    GET  Cancellation Confirmation   \n",
       "3              Vineland-Bridgeton, NJ    GET                       Home   \n",
       "4               Lexington-Fayette, KY    GET  Cancellation Confirmation   \n",
       "\n",
       "    registration  sessionId  status             ts  userId  Churn_Event  \\\n",
       "0  1538016340000        187     307  1542823952000  100010            0   \n",
       "1  1536269906000        205     307  1542324354000  200002            0   \n",
       "2  1533157139000        174     200  1539318918000     125            1   \n",
       "3  1532224335000       2426     200  1543590766000     124            0   \n",
       "4  1538080987000        934     200  1539761972000      51            1   \n",
       "\n",
       "   Churn_User  Rank  \n",
       "0           0     1  \n",
       "1           0     1  \n",
       "2           1     1  \n",
       "3           0     1  \n",
       "4           1     1  "
      ]
     },
     "execution_count": 23,
     "metadata": {},
     "output_type": "execute_result"
    }
   ],
   "source": [
    "#Select the latest row for each user \n",
    "#If they have churned this will be the cancellation page, otherwise whatever the user's last activity was\n",
    "#There are a small number of users with two entries with identical timestamps, so added itemInSession to the ordering\n",
    "#to ensure only 1 record is selected per user\n",
    "user_time_window = Window.partitionBy('userId').orderBy(desc('ts'), desc('itemInSession'))\n",
    "\n",
    "user_event_log = user_event_log.withColumn('Rank',dense_rank().over(user_time_window))\n",
    "\n",
    "users_df = user_event_log.filter(user_event_log.Rank == 1).toPandas()\n",
    "users_df.head(5)"
   ]
  },
  {
   "cell_type": "code",
   "execution_count": 24,
   "id": "133e95b7",
   "metadata": {},
   "outputs": [],
   "source": [
    "def plot_churn_counts(df, col):\n",
    "    if col == 'Churn_User':\n",
    "        plt = sns.countplot(x=col, data=df);\n",
    "        plt.set_xlabel('User Churned', fontsize=15)\n",
    "    else:\n",
    "        plt = sns.countplot(x=col, data=df, hue='Churn_User');\n",
    "        plt.set_xlabel(col.capitalize(), fontsize=15)\n",
    "    plt.set_ylabel(\"Count of users\", fontsize=15)\n",
    "    plt.tick_params(labelsize=10)"
   ]
  },
  {
   "cell_type": "code",
   "execution_count": 25,
   "id": "ad559bbc",
   "metadata": {},
   "outputs": [
    {
     "data": {
      "image/png": "[encoded data removed]",
      "text/plain": [
       "<Figure size 640x480 with 1 Axes>"
      ]
     },
     "metadata": {},
     "output_type": "display_data"
    }
   ],
   "source": [
    "plot_churn_counts(users_df,'Churn_User')"
   ]
  },
  {
   "cell_type": "code",
   "execution_count": 26,
   "id": "2bc37959",
   "metadata": {},
   "outputs": [
    {
     "data": {
      "image/png": "[encoded data removed]",
      "text/plain": [
       "<Figure size 640x480 with 1 Axes>"
      ]
     },
     "metadata": {},
     "output_type": "display_data"
    }
   ],
   "source": [
    "plot_churn_counts(users_df,'gender')"
   ]
  },
  {
   "cell_type": "code",
   "execution_count": 27,
   "id": "546c433f",
   "metadata": {},
   "outputs": [
    {
     "data": {
      "image/png": "[encoded data removed]",
      "text/plain": [
       "<Figure size 640x480 with 1 Axes>"
      ]
     },
     "metadata": {},
     "output_type": "display_data"
    }
   ],
   "source": [
    "plot_churn_counts(users_df,'level')"
   ]
  },
  {
   "cell_type": "markdown",
   "id": "53652541",
   "metadata": {},
   "source": [
    "## 4. Feature Engineering"
   ]
  },
  {
   "cell_type": "markdown",
   "id": "6af69afe",
   "metadata": {},
   "source": [
    "Spark machine learning models require the input features to be in numeric form, so we'll focus on creating numeric rather than categorical factors. There are some categorical factors in the input data that can be easily converted to a binary numeric representation, so we will also consider these factors."
   ]
  },
  {
   "cell_type": "code",
   "execution_count": 28,
   "id": "7fa2ffe0",
   "metadata": {},
   "outputs": [
    {
     "data": {
      "text/plain": [
       "Row(auth='Logged In', gender=1, itemInSession=34, length=None, level='free', location='Bridgeport-Stamford-Norwalk, CT', method='PUT', page='Logout', registration=1538016340000, sessionId=187, status=307, ts=1542823952000, userId='100010', Churn_Event=0, Churn_User=0, Rank=1)"
      ]
     },
     "execution_count": 28,
     "metadata": {},
     "output_type": "execute_result"
    }
   ],
   "source": [
    "#Convert gender to binary categorical feature\n",
    "user_event_log = user_event_log.withColumn(\"gender\", when(user_event_log.gender == \"M\",0) \\\n",
    "      .when(user_event_log.gender == \"F\",1))\n",
    "\n",
    "user_event_log.head()"
   ]
  },
  {
   "cell_type": "markdown",
   "id": "e3ec2fec",
   "metadata": {},
   "source": [
    "The event log captures the user's subscription level (paid/free) at each page. Since we're looking to construct a user-level modelling dataset to predict which users will churn, it would be more useful to have a flag that indicates their most recent level and whether they have ever previously been in the paid tier."
   ]
  },
  {
   "cell_type": "code",
   "execution_count": 29,
   "id": "cbc666e1",
   "metadata": {},
   "outputs": [],
   "source": [
    "#Map level to binary indicator\n",
    "user_event_log = user_event_log.withColumn(\"level\", when(user_event_log.level == \"free\",0) \\\n",
    "      .when(user_event_log.level == \"paid\",1))"
   ]
  },
  {
   "cell_type": "code",
   "execution_count": 30,
   "id": "b83f6cc4",
   "metadata": {},
   "outputs": [],
   "source": [
    "#For each user, identify their most recent level in the event log using the Window function already used to identify churn\n",
    "#Also create a flag to identify users who have ever been in the paid tier\n",
    "user_current_level = user_event_log.select('userId',\n",
    "                                           Ffirst('level',True).over(user_window).alias('current_level'),\n",
    "                                           Fmax('level').over(user_window).alias('ever_paid')) \\\n",
    "                                    .distinct()"
   ]
  },
  {
   "cell_type": "code",
   "execution_count": 31,
   "id": "1fe67ffb",
   "metadata": {},
   "outputs": [
    {
     "name": "stdout",
     "output_type": "stream",
     "text": [
      "+--------------------+--------+-----------+-------------+---------+-----------+------+--------+-------+----------+\n",
      "|                page|p_friend|p_thumbs_up|p_thumbs_down|p_upgrade|p_downgrade|p_song|p_advert|p_error|p_playlist|\n",
      "+--------------------+--------+-----------+-------------+---------+-----------+------+--------+-------+----------+\n",
      "|    Submit Downgrade|       0|          0|            0|        0|          1|     0|       0|      0|         0|\n",
      "|          Add Friend|       1|          0|            0|        0|          0|     0|       0|      0|         0|\n",
      "|     Add to Playlist|       0|          0|            0|        0|          0|     0|       0|      0|         1|\n",
      "|       Save Settings|       0|          0|            0|        0|          0|     0|       0|      0|         0|\n",
      "|         Roll Advert|       0|          0|            0|        0|          0|     0|       1|      0|         0|\n",
      "|             Upgrade|       0|          0|            0|        0|          0|     0|       0|      0|         0|\n",
      "|         Thumbs Down|       0|          0|            1|        0|          0|     0|       0|      0|         0|\n",
      "|            Settings|       0|          0|            0|        0|          0|     0|       0|      0|         0|\n",
      "|               Error|       0|          0|            0|        0|          0|     0|       0|      1|         0|\n",
      "|Cancellation Conf...|       0|          0|            0|        0|          0|     0|       0|      0|         0|\n",
      "|                Help|       0|          0|            0|        0|          0|     0|       0|      0|         0|\n",
      "|                Home|       0|          0|            0|        0|          0|     0|       0|      0|         0|\n",
      "|           Downgrade|       0|          0|            0|        0|          0|     0|       0|      0|         0|\n",
      "|      Submit Upgrade|       0|          0|            0|        1|          0|     0|       0|      0|         0|\n",
      "|              Logout|       0|          0|            0|        0|          0|     0|       0|      0|         0|\n",
      "|           Thumbs Up|       0|          1|            0|        0|          0|     0|       0|      0|         0|\n",
      "|               About|       0|          0|            0|        0|          0|     0|       0|      0|         0|\n",
      "|            NextSong|       0|          0|            0|        0|          0|     1|       0|      0|         0|\n",
      "|              Cancel|       0|          0|            0|        0|          0|     0|       0|      0|         0|\n",
      "+--------------------+--------+-----------+-------------+---------+-----------+------+--------+-------+----------+\n",
      "\n"
     ]
    }
   ],
   "source": [
    "#create page-view counts per user, using the same approach as we used to create our churn flag\n",
    "#ignore uninteresting pages such as About or Home\n",
    "page_dict = {'friend': 'Add Friend', 'thumbs_up': 'Thumbs Up', 'thumbs_down': 'Thumbs Down',\n",
    "             'upgrade': 'Submit Upgrade', 'downgrade': 'Submit Downgrade', 'song': 'NextSong', \n",
    "             'advert': 'Roll Advert', 'error': 'Error', 'playlist': 'Add to Playlist'\n",
    "}\n",
    "for key in page_dict.keys():\n",
    "    udf_page = udf(lambda x: 1 if x == page_dict[key] else 0, IntegerType())\n",
    "    user_event_log = user_event_log.withColumn('p_' + key, udf_page(\"page\"))\n",
    "\n",
    "#Check each page type has been set correctly\n",
    "user_event_log.select('page',user_event_log.colRegex(\"`(p_)+?.+`\")).distinct().show()\n"
   ]
  },
  {
   "cell_type": "code",
   "execution_count": 32,
   "id": "ec68039d",
   "metadata": {},
   "outputs": [
    {
     "name": "stdout",
     "output_type": "stream",
     "text": [
      "+------+----------+-------------+---------------+-----------+-------------+--------+----------+---------+------------+\n",
      "|userId|sum_friend|sum_thumbs_up|sum_thumbs_down|sum_upgrade|sum_downgrade|sum_song|sum_advert|sum_error|sum_playlist|\n",
      "+------+----------+-------------+---------------+-----------+-------------+--------+----------+---------+------------+\n",
      "|100010|         4|           17|              5|          0|            0|     275|        52|        0|           7|\n",
      "|200002|         4|           21|              6|          1|            0|     387|         7|        0|           8|\n",
      "|   125|         0|            0|              0|          0|            0|       8|         1|        0|           0|\n",
      "|   124|        74|          171|             41|          0|            0|    4079|         4|        6|         118|\n",
      "|    51|        28|          100|             21|          0|            0|    2111|         0|        1|          52|\n",
      "|     7|         1|            7|              1|          0|            0|     150|        16|        1|           5|\n",
      "|    15|        31|           81|             14|          0|            0|    1914|         1|        2|          59|\n",
      "|    54|        33|          163|             29|          1|            1|    2841|        47|        1|          72|\n",
      "|   155|        11|           58|              3|          1|            0|     820|         8|        3|          24|\n",
      "|100014|         6|           17|              3|          0|            0|     257|         2|        0|           7|\n",
      "|   132|        41|           96|             17|          1|            0|    1928|         2|        3|          38|\n",
      "|   154|         3|           11|              0|          0|            0|      84|        10|        0|           1|\n",
      "|   101|        29|           86|             16|          1|            0|    1797|         8|        3|          61|\n",
      "|    11|         6|           40|              9|          2|            1|     647|        39|        1|          20|\n",
      "|   138|        41|           95|             24|          1|            0|    2070|        17|        1|          67|\n",
      "|300017|        63|          303|             28|          0|            0|    3632|        11|        5|         113|\n",
      "|100021|         7|           11|              5|          0|            0|     230|        30|        2|           7|\n",
      "|    29|        47|          154|             22|          1|            0|    3028|        22|        0|          89|\n",
      "|    69|        12|           72|              9|          1|            0|    1125|         3|        4|          33|\n",
      "|   112|         7|            9|              3|          0|            0|     215|        21|        0|           7|\n",
      "+------+----------+-------------+---------------+-----------+-------------+--------+----------+---------+------------+\n",
      "only showing top 20 rows\n",
      "\n"
     ]
    }
   ],
   "source": [
    "#Create count variables for each of these page views\n",
    "#partition the dataframe based on the userId column\n",
    "user_window = Window.partitionBy(\"userId\")\n",
    "#return the sum of values for each page type\n",
    "for key in page_dict:\n",
    "    user_event_log = user_event_log.withColumn('sum_' + key, Fsum('p_' + key).over(user_window))\n",
    "\n",
    "#Check first few rows for unique users\n",
    "user_page_counts = user_event_log.select('userId',user_event_log.colRegex(\"`(sum_)+?.+`\")).distinct()\n",
    "user_page_counts.show()"
   ]
  },
  {
   "cell_type": "markdown",
   "id": "c47ce017",
   "metadata": {},
   "source": [
    "Create session-aggregated features such as average length of session per user"
   ]
  },
  {
   "cell_type": "code",
   "execution_count": 33,
   "id": "c138785c",
   "metadata": {},
   "outputs": [
    {
     "data": {
      "text/plain": [
       "[Row(userId='2', sessionId=1487, count=82),\n",
       " Row(userId='2', sessionId=1, count=359),\n",
       " Row(userId='2', sessionId=1928, count=80),\n",
       " Row(userId='2', sessionId=1342, count=17),\n",
       " Row(userId='2', sessionId=1639, count=162),\n",
       " Row(userId='2', sessionId=1560, count=5),\n",
       " Row(userId='2', sessionId=637, count=50),\n",
       " Row(userId='3', sessionId=374, count=39),\n",
       " Row(userId='3', sessionId=1226, count=115),\n",
       " Row(userId='3', sessionId=219, count=22),\n",
       " Row(userId='3', sessionId=1324, count=38),\n",
       " Row(userId='4', sessionId=760, count=5),\n",
       " Row(userId='4', sessionId=2318, count=12),\n",
       " Row(userId='4', sessionId=647, count=2),\n",
       " Row(userId='4', sessionId=2007, count=122)]"
      ]
     },
     "execution_count": 33,
     "metadata": {},
     "output_type": "execute_result"
    }
   ],
   "source": [
    "songs_in_session = user_event_log.filter(user_event_log.page == \"NextSong\") \\\n",
    "                                .groupby([user_event_log.userId, user_event_log.sessionId]) \\\n",
    "                                .count() \\\n",
    "                                .orderBy(user_event_log.userId.cast(\"Int\"))\n",
    "songs_in_session.head(15)"
   ]
  },
  {
   "cell_type": "code",
   "execution_count": 34,
   "id": "80124668",
   "metadata": {},
   "outputs": [
    {
     "data": {
      "text/plain": [
       "[Row(userId='2', avg_songs_per_session=107.85714285714286),\n",
       " Row(userId='3', avg_songs_per_session=53.5),\n",
       " Row(userId='4', avg_songs_per_session=93.0909090909091),\n",
       " Row(userId='5', avg_songs_per_session=32.2),\n",
       " Row(userId='6', avg_songs_per_session=143.5909090909091)]"
      ]
     },
     "execution_count": 34,
     "metadata": {},
     "output_type": "execute_result"
    }
   ],
   "source": [
    "avg_songs_in_session = songs_in_session.groupBy('userId') \\\n",
    "                                        .agg(Fmean(\"count\").alias(\"avg_songs_per_session\")) \\\n",
    "                                        .orderBy(songs_in_session.userId.cast(\"Int\"))\n",
    "avg_songs_in_session.head(5)"
   ]
  },
  {
   "cell_type": "code",
   "execution_count": 35,
   "id": "e351fad7",
   "metadata": {
    "scrolled": false
   },
   "outputs": [
    {
     "name": "stdout",
     "output_type": "stream",
     "text": [
      "+------+---------+-------------+-------------+------------------------+\n",
      "|userId|sessionId|  session_end|session_start|session_duration_seconds|\n",
      "+------+---------+-------------+-------------+------------------------+\n",
      "|   101|      635|1539263366000|1539065365000|                198001.0|\n",
      "|   110|     1776|1543573300000|1543568293000|                  5007.0|\n",
      "|   120|      627|1539237966000|1539180886000|                 57080.0|\n",
      "|   122|      691|1539888010000|1539886900000|                  1110.0|\n",
      "|   140|      798|1539425132000|1539424555000|                   577.0|\n",
      "+------+---------+-------------+-------------+------------------------+\n",
      "only showing top 5 rows\n",
      "\n"
     ]
    }
   ],
   "source": [
    "session_window = Window.partitionBy([\"userId\", \"sessionId\"]).orderBy(desc(\"ts\")) \\\n",
    "                    .rangeBetween(Window.unboundedPreceding, Window.unboundedFollowing)\n",
    "session_timings = user_event_log.select('userId',\n",
    "                                        'sessionId',\n",
    "                                        Fmax('ts').over(session_window).alias('session_end'),\n",
    "                                        Fmin('ts').over(session_window).alias('session_start')).distinct()\n",
    "session_timings = session_timings.withColumn('session_duration_seconds', (session_timings['session_end'] - session_timings['session_start'])/1000)\n",
    "session_timings.show(5)"
   ]
  },
  {
   "cell_type": "code",
   "execution_count": 36,
   "id": "fb5efd7f",
   "metadata": {},
   "outputs": [
    {
     "data": {
      "text/plain": [
       "[Row(userId='2', avg_session_duration_seconds=26701.0),\n",
       " Row(userId='3', avg_session_duration_seconds=14845.5),\n",
       " Row(userId='4', avg_session_duration_seconds=22760.31818181818),\n",
       " Row(userId='5', avg_session_duration_seconds=6371.5),\n",
       " Row(userId='6', avg_session_duration_seconds=32859.75)]"
      ]
     },
     "execution_count": 36,
     "metadata": {},
     "output_type": "execute_result"
    }
   ],
   "source": [
    "avg_session_duration = session_timings.groupBy('userId') \\\n",
    "                                      .agg(Fmean('session_duration_seconds').alias(\"avg_session_duration_seconds\")) \\\n",
    "                                        .orderBy(session_timings.userId.cast(\"Int\"))\n",
    "avg_session_duration.head(5)"
   ]
  },
  {
   "cell_type": "code",
   "execution_count": 37,
   "id": "ac850963",
   "metadata": {},
   "outputs": [],
   "source": [
    "#Join together all of the newly engineered features to create a modelling dataset\n",
    "join_df = user_current_level.join(avg_songs_in_session,'userId','outer') \\\n",
    "                  .join(avg_session_duration,'userId','outer') \\\n",
    "                  .join(user_page_counts,'userId','outer')\n",
    "\n"
   ]
  },
  {
   "cell_type": "code",
   "execution_count": 38,
   "id": "5a26c66d",
   "metadata": {},
   "outputs": [
    {
     "data": {
      "text/plain": [
       "Row(userId='100010', current_level=0, ever_paid=0, avg_songs_per_session=39.285714285714285, avg_session_duration_seconds=9269.0, sum_friend=4, sum_thumbs_up=17, sum_thumbs_down=5, sum_upgrade=0, sum_downgrade=0, sum_song=275, sum_advert=52, sum_error=0, sum_playlist=7)"
      ]
     },
     "execution_count": 38,
     "metadata": {},
     "output_type": "execute_result"
    }
   ],
   "source": [
    "join_df.head()"
   ]
  },
  {
   "cell_type": "markdown",
   "id": "79d284c4",
   "metadata": {},
   "source": [
    "## 5. Modelling"
   ]
  }
 ],
 "metadata": {
  "kernelspec": {
   "display_name": "Python 3 (ipykernel)",
   "language": "python",
   "name": "python3"
  },
  "language_info": {
   "codemirror_mode": {
    "name": "ipython",
    "version": 3
   },
   "file_extension": ".py",
   "mimetype": "text/x-python",
   "name": "python",
   "nbconvert_exporter": "python",
   "pygments_lexer": "ipython3",
   "version": "3.8.13"
  }
 },
 "nbformat": 4,
 "nbformat_minor": 5
}
